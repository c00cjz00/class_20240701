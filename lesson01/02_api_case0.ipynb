{
  "cells": [
    {
      "cell_type": "markdown",
      "id": "1d9ba909",
      "metadata": {
        "id": "1d9ba909"
      },
      "source": [
        "## 02_api_case1.ipynb"
      ]
    },
    {
      "cell_type": "code",
      "execution_count": null,
      "id": "a94e0e6c",
      "metadata": {
        "tags": [],
        "id": "a94e0e6c"
      },
      "outputs": [],
      "source": [
        "# 初始環境設定\n",
        "import os\n",
        "from pathlib import Path\n",
        "HOME = str(Path.home())\n",
        "Add_Binarry_Path=HOME+'/.local/bin'\n",
        "os.environ['PATH']=os.environ['PATH']+':'+Add_Binarry_Path"
      ]
    },
    {
      "cell_type": "code",
      "execution_count": null,
      "id": "5f3bc2ac",
      "metadata": {
        "tags": [],
        "id": "5f3bc2ac"
      },
      "outputs": [],
      "source": [
        "# PIP\n",
        "!pip install hf_transfer openai\n",
        "#!pip install hf_transfer langchain langchain-openai openai"
      ]
    },
    {
      "cell_type": "markdown",
      "id": "08433ccb",
      "metadata": {
        "id": "08433ccb"
      },
      "source": [
        "## OPENAI EXAMPLE"
      ]
    },
    {
      "cell_type": "code",
      "execution_count": null,
      "id": "28503ae8",
      "metadata": {
        "tags": [],
        "id": "28503ae8"
      },
      "outputs": [],
      "source": [
        "## QA normal\n",
        "\n",
        "## OPENAI KEY\n",
        "from openai import OpenAI\n",
        "\n",
        "client = OpenAI(\n",
        "  base_url = \"https://integrate.api.nvidia.com/v1\",\n",
        "  api_key = \"nvapi-\"\n",
        ")\n",
        "\n",
        "response = client.chat.completions.create(\n",
        "  #model=\"nvidia/nemotron-4-340b-instruct\",\n",
        "  model=\"microsoft/phi-3-medium-4k-instruct\",\n",
        "  messages=[{\"role\":\"user\",\"content\":\"針灸會有什麼後遺症嗎\"}],\n",
        "  temperature=0.2,\n",
        "  top_p=0.7,\n",
        "  max_tokens=1024,\n",
        ")\n",
        "print(response.choices[0].message.content)"
      ]
    }
  ],
  "metadata": {
    "kernelspec": {
      "display_name": "Python 3 (ipykernel)",
      "language": "python",
      "name": "python3"
    },
    "language_info": {
      "codemirror_mode": {
        "name": "ipython",
        "version": 3
      },
      "file_extension": ".py",
      "mimetype": "text/x-python",
      "name": "python",
      "nbconvert_exporter": "python",
      "pygments_lexer": "ipython3",
      "version": "3.10.12"
    },
    "colab": {
      "provenance": []
    }
  },
  "nbformat": 4,
  "nbformat_minor": 5
}