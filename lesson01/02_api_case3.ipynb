{
 "cells": [
  {
   "cell_type": "markdown",
   "id": "58468253",
   "metadata": {},
   "source": [
    "## 02_api_case3.ipynb"
   ]
  },
  {
   "cell_type": "code",
   "execution_count": null,
   "id": "4477881f",
   "metadata": {
    "tags": []
   },
   "outputs": [],
   "source": [
    "# 初始環境設定\n",
    "import os\n",
    "from pathlib import Path\n",
    "HOME = str(Path.home())\n",
    "Add_Binarry_Path=HOME+'/.local/bin'\n",
    "os.environ['PATH']=os.environ['PATH']+':'+Add_Binarry_Path"
   ]
  },
  {
   "cell_type": "code",
   "execution_count": null,
   "id": "3e14750d",
   "metadata": {
    "tags": []
   },
   "outputs": [],
   "source": [
    "# PIP\n",
    "!pip install hf_transfer openai\n",
    "#!pip install hf_transfer langchain langchain-openai openai"
   ]
  },
  {
   "cell_type": "markdown",
   "id": "24b2618b",
   "metadata": {},
   "source": [
    "## Traditional CoT reasoning prompt\n",
    "- Traditional chain-of-thought (CoT)"
   ]
  },
  {
   "cell_type": "code",
   "execution_count": null,
   "id": "c70307fd",
   "metadata": {
    "tags": []
   },
   "outputs": [],
   "source": [
    "case1 = \"Shortly after undergoing a bipolar prosthesis for a displaced femoral neck fracture of the left hip acquired after a fall the day before, an 80-year-old woman suddenly develops dyspnea. The surgery under general anesthesia with sevoflurane was uneventful, lasting 98 min, during which the patient maintained oxygen saturation readings of 100% on 8 l of oxygen. She has a history of hypertension, osteoporosis, and osteoarthritis of her right knee. Her medications include ramipril, naproxen, ranitidine, and a multivitamin. She appears cyanotic, drowsy, and is oriented only to person. Her temperature is 38.6 °C (101.5 °F), pulse is 135/min, respirations are 36/min, and blood pressure is 155/95 mm Hg. Pulse oximetry on room air shows an oxygen saturation of 81%. There are several scattered petechiae on the anterior chest wall. Laboratory studies show a hemoglobin concentration of 10.5 g/dl, a leukocyte count of 9000/mm3, a platelet count of 145,000/mm3, and a creatine kinase of 190 U/l. An ECG shows sinus tachycardia. What is the most likely diagnosis?\"\n",
    "rationale1 = \"The patient had a surgical repair of a displaced femoral neck fracture. The patient has petechiae. The patient has a new oxygen requirement, meaning they are having difficulty with their breathing. This patient most likely has a fat embolism.\"\n",
    "\n",
    "case2 = \"A 55-year-old man comes to the emergency department because of a dry cough and severe chest pain beginning that morning. Two months ago, he was diagnosed with inferior wall myocardial infarction and was treated with stent implantation of the right coronary artery. He has a history of hypertension and hypercholesterolemia. His medications include aspirin, clopidogrel, atorvastatin, and enalapril. His temperature is 38.5Â°C (101.3 °F), pulse is 92/min, respirations are 22/min, and blood pressure is 130/80 mm Hg. Cardiac examination shows a high-pitched scratching sound best heard while sitting upright and during expiration. The remainder of the examination shows no abnormalities. An ECG shows diffuse ST elevations. Serum studies show a troponin I of 0.005 ng/ml (N < 0.01). What is the most likely cause of this patient’s symptoms?\"\n",
    "rationale2 = \"This patient is having chest pain. They recently had a heart attack and has new chest pain, suggesting he may have a problem with his heart. The EKG has diffuse ST elevations and he has a scratching murmur. This patient likely has Dressler Syndrome.\"\n",
    "\n",
    "case3 = \"A 22-year-old man is brought to the emergency department by police after he was found undressing himself outside in 110F weather. The patient refuses to answer any questions as he suspects that his care team is spying on him. The patient recently started college and has presented to the emergency department once before for polysubstance intoxication. The patient attempts to assault a nurse, is restrained, and given diphenhydramine and haloperidol. When the patient is able to be examined, he is somnolent and non-responsive. His temperature is 104F (40C), blood pressure is 147/98 mmHg, pulse is 120/min, respirations are 17/min, and oxygen saturation is 98% on room air. He does not comply with any commands, and it is not possible to freely manipulate his extremities due to rigidity. His mucous membranes are dry. What is the most likely diagnosis?\"\n",
    "\n",
    "prompt = f\"\"\"\n",
    "Provide a step-by-step deduction that identifies the correct response\n",
    "\n",
    "Case 1: {case1}\n",
    "\n",
    "Rationale 1: {rationale1}\n",
    "\n",
    "Case 2: {case2}\n",
    "\n",
    "Rationale 2: {rationale2}\n",
    "\n",
    "Case 3: {case3}\n",
    "\"\"\"\n",
    "print(prompt)"
   ]
  },
  {
   "cell_type": "code",
   "execution_count": null,
   "id": "9a6958c2",
   "metadata": {},
   "outputs": [],
   "source": [
    "## OPENAI KEY\n",
    "from openai import OpenAI\n",
    "\n",
    "client = OpenAI(\n",
    "  base_url = \"https://integrate.api.nvidia.com/v1\",\n",
    "  api_key = \"nvapi-\"\n",
    ")\n",
    "\n",
    "response = client.chat.completions.create(\n",
    "  #model=\"nvidia/nemotron-4-340b-instruct\",\n",
    "  model=\"microsoft/phi-3-medium-4k-instruct\",    \n",
    "  messages=[{\"role\":\"user\",\"content\":prompt}],\n",
    "  temperature=0.2,\n",
    "  top_p=0.7,\n",
    "  max_tokens=1024,\n",
    ")\n",
    "print(response.choices[0].message.content)"
   ]
  },
  {
   "cell_type": "markdown",
   "id": "d145c7b5",
   "metadata": {},
   "source": [
    "## Clinical reasoning prompts\n",
    "- Differential diagnosis CoT"
   ]
  },
  {
   "cell_type": "code",
   "execution_count": null,
   "id": "38eaf01f",
   "metadata": {},
   "outputs": [],
   "source": [
    "case1 = \"Shortly after undergoing a bipolar prosthesis for a displaced femoral neck fracture of the left hip acquired after a fall the day before, an 80-year-old woman suddenly develops dyspnea. The surgery under general anesthesia with sevoflurane was uneventful, lasting 98 min, during which the patient maintained oxygen saturation readings of 100% on 8 l of oxygen. She has a history of hypertension, osteoporosis, and osteoarthritis of her right knee. Her medications include ramipril, naproxen, ranitidine, and a multivitamin. She appears cyanotic, drowsy, and is oriented only to person. Her temperature is 38.6 °C (101.5 °F), pulse is 135/min, respirations are 36/min, and blood pressure is 155/95 mm Hg. Pulse oximetry on room air shows an oxygen saturation of 81%. There are several scattered petechiae on the anterior chest wall. Laboratory studies show a hemoglobin concentration of 10.5 g/dl, a leukocyte count of 9000/mm3, a platelet count of 145,000/mm3, and a creatine kinase of 190 U/l. An ECG shows sinus tachycardia. What is the most likely diagnosis?\"\n",
    "rationale1 = \"This patient has shortness of breath after a long bone surgery. The differential for this patient is pulmonary embolism, fat embolism, myocardial infarction, blood loss, anaphylaxis, or a drug reaction. The patient has petechiae which makes fat embolism more likely. This patient most likely has a fat embolism.\"\n",
    "\n",
    "case2 = \"A 55-year-old man comes to the emergency department because of a dry cough and severe chest pain beginning that morning. Two months ago, he was diagnosed with inferior wall myocardial infarction and was treated with stent implantation of the right coronary artery. He has a history of hypertension and hypercholesterolemia. His medications include aspirin, clopidogrel, atorvastatin, and enalapril. His temperature is 38.5Â°C (101.3 °F), pulse is 92/min, respirations are 22/min, and blood pressure is 130/80 mm Hg. Cardiac examination shows a high-pitched scratching sound best heard while sitting upright and during expiration. The remainder of the examination shows no abnormalities. An ECG shows diffuse ST elevations. Serum studies show a troponin I of 0.005 ng/ml (N < 0.01). What is the most likely cause of this patient’s symptoms?\"\n",
    "rationale2 = \"This patient has chest pain with diffuse ST elevations after a recent myocardial infarction. The differential for this patient includes: myocardial infarction, pulmonary embolism, pericarditis, Dressler syndrome, aortic dissection, and costochondritis. This patient likely has a high-pitched scratching sound on auscultation associated with pericarditis and Dressler Syndrome. This patient has diffuse ST elevations associated with Dressler Syndrome. This patient most likely has Dressler Syndrome.\"\n",
    "\n",
    "case3 = \"A 22-year-old man is brought to the emergency department by police after he was found undressing himself outside in 110F weather. The patient refuses to answer any questions as he suspects that his care team is spying on him. The patient recently started college and has presented to the emergency department once before for polysubstance intoxication. The patient attempts to assault a nurse, is restrained, and given diphenhydramine and haloperidol. When the patient is able to be examined, he is somnolent and non-responsive. His temperature is 104F (40C), blood pressure is 147/98 mmHg, pulse is 120/min, respirations are 17/min, and oxygen saturation is 98% on room air. He does not comply with any commands, and it is not possible to freely manipulate his extremities due to rigidity. His mucous membranes are dry. What is the most likely diagnosis?\"\n",
    "\n",
    "prompt = f\"\"\"\n",
    "Use step by step deduction to create a differential diagnosis and then use step by step deduction to determine the correct response.\n",
    "\n",
    "Case 1: {case1}\n",
    "\n",
    "Rationale 1: {rationale1}\n",
    "\n",
    "Case 2: {case2}\n",
    "\n",
    "Rationale 2: {rationale2}\n",
    "\n",
    "Case 3: {case3}\n",
    "\"\"\"\n",
    "print(prompt)"
   ]
  },
  {
   "cell_type": "code",
   "execution_count": null,
   "id": "2753eec0",
   "metadata": {},
   "outputs": [],
   "source": [
    "## OPENAI KEY\n",
    "from openai import OpenAI\n",
    "\n",
    "client = OpenAI(\n",
    "  base_url = \"https://integrate.api.nvidia.com/v1\",\n",
    "  api_key = \"nvapi-\"\n",
    ")\n",
    "\n",
    "response = client.chat.completions.create(\n",
    "  #model=\"nvidia/nemotron-4-340b-instruct\",\n",
    "  model=\"microsoft/phi-3-medium-4k-instruct\",    \n",
    "  messages=[{\"role\":\"user\",\"content\":prompt}],\n",
    "  temperature=0.2,\n",
    "  top_p=0.7,\n",
    "  max_tokens=1024,\n",
    ")\n",
    "print(response.choices[0].message.content)"
   ]
  },
  {
   "cell_type": "code",
   "execution_count": null,
   "id": "10126111",
   "metadata": {},
   "outputs": [],
   "source": [
    "## Clinical reasoning prompts\n",
    "- Intuitive reasoning CoT"
   ]
  },
  {
   "cell_type": "code",
   "execution_count": 6,
   "id": "24c972a2",
   "metadata": {},
   "outputs": [
    {
     "name": "stdout",
     "output_type": "stream",
     "text": [
      "\n",
      "Use symptom, signs, and laboratory disease associations to step by step deduce the correct response.\n",
      "\n",
      "Case 1: Shortly after undergoing a bipolar prosthesis for a displaced femoral neck fracture of the left hip acquired after a fall the day before, an 80-year-old woman suddenly develops dyspnea. The surgery under general anesthesia with sevoflurane was uneventful, lasting 98 min, during which the patient maintained oxygen saturation readings of 100% on 8 l of oxygen. She has a history of hypertension, osteoporosis, and osteoarthritis of her right knee. Her medications include ramipril, naproxen, ranitidine, and a multivitamin. She appears cyanotic, drowsy, and is oriented only to person. Her temperature is 38.6 °C (101.5 °F), pulse is 135/min, respirations are 36/min, and blood pressure is 155/95 mm Hg. Pulse oximetry on room air shows an oxygen saturation of 81%. There are several scattered petechiae on the anterior chest wall. Laboratory studies show a hemoglobin concentration of 10.5 g/dl, a leukocyte count of 9000/mm3, a platelet count of 145,000/mm3, and a creatine kinase of 190 U/l. An ECG shows sinus tachycardia. What is the most likely diagnosis?\n",
      "\n",
      "Rationale 1: This patient has findings of petechiae, altered mental status, shortness of breath, and recent surgery suggesting a diagnosis of fat emboli. The patient most likely has a fat embolism.\n",
      "\n",
      "Case 2: A 55-year-old man comes to the emergency department because of a dry cough and severe chest pain beginning that morning. Two months ago, he was diagnosed with inferior wall myocardial infarction and was treated with stent implantation of the right coronary artery. He has a history of hypertension and hypercholesterolemia. His medications include aspirin, clopidogrel, atorvastatin, and enalapril. His temperature is 38.5Â°C (101.3 °F), pulse is 92/min, respirations are 22/min, and blood pressure is 130/80 mm Hg. Cardiac examination shows a high-pitched scratching sound best heard while sitting upright and during expiration. The remainder of the examination shows no abnormalities. An ECG shows diffuse ST elevations. Serum studies show a troponin I of 0.005 ng/ml (N < 0.01). What is the most likely cause of this patient’s symptoms?\n",
      "\n",
      "Rationale 2: This patient had a recent myocardial infarction with new development of diffuse ST elevations, chest pain, and a high pitched scratching murmur which are found in Dressler’s syndrome. This patient likely has Dressler’s Syndrome.\n",
      "\n",
      "Case 3: A 22-year-old man is brought to the emergency department by police after he was found undressing himself outside in 110F weather. The patient refuses to answer any questions as he suspects that his care team is spying on him. The patient recently started college and has presented to the emergency department once before for polysubstance intoxication. The patient attempts to assault a nurse, is restrained, and given diphenhydramine and haloperidol. When the patient is able to be examined, he is somnolent and non-responsive. His temperature is 104F (40C), blood pressure is 147/98 mmHg, pulse is 120/min, respirations are 17/min, and oxygen saturation is 98% on room air. He does not comply with any commands, and it is not possible to freely manipulate his extremities due to rigidity. His mucous membranes are dry. What is the most likely diagnosis?\n",
      "\n"
     ]
    }
   ],
   "source": [
    "case1 = \"Shortly after undergoing a bipolar prosthesis for a displaced femoral neck fracture of the left hip acquired after a fall the day before, an 80-year-old woman suddenly develops dyspnea. The surgery under general anesthesia with sevoflurane was uneventful, lasting 98 min, during which the patient maintained oxygen saturation readings of 100% on 8 l of oxygen. She has a history of hypertension, osteoporosis, and osteoarthritis of her right knee. Her medications include ramipril, naproxen, ranitidine, and a multivitamin. She appears cyanotic, drowsy, and is oriented only to person. Her temperature is 38.6 °C (101.5 °F), pulse is 135/min, respirations are 36/min, and blood pressure is 155/95 mm Hg. Pulse oximetry on room air shows an oxygen saturation of 81%. There are several scattered petechiae on the anterior chest wall. Laboratory studies show a hemoglobin concentration of 10.5 g/dl, a leukocyte count of 9000/mm3, a platelet count of 145,000/mm3, and a creatine kinase of 190 U/l. An ECG shows sinus tachycardia. What is the most likely diagnosis?\"\n",
    "rationale1 = \"This patient has findings of petechiae, altered mental status, shortness of breath, and recent surgery suggesting a diagnosis of fat emboli. The patient most likely has a fat embolism.\"\n",
    "\n",
    "case2 = \"A 55-year-old man comes to the emergency department because of a dry cough and severe chest pain beginning that morning. Two months ago, he was diagnosed with inferior wall myocardial infarction and was treated with stent implantation of the right coronary artery. He has a history of hypertension and hypercholesterolemia. His medications include aspirin, clopidogrel, atorvastatin, and enalapril. His temperature is 38.5Â°C (101.3 °F), pulse is 92/min, respirations are 22/min, and blood pressure is 130/80 mm Hg. Cardiac examination shows a high-pitched scratching sound best heard while sitting upright and during expiration. The remainder of the examination shows no abnormalities. An ECG shows diffuse ST elevations. Serum studies show a troponin I of 0.005 ng/ml (N < 0.01). What is the most likely cause of this patient’s symptoms?\"\n",
    "rationale2 = \"This patient had a recent myocardial infarction with new development of diffuse ST elevations, chest pain, and a high pitched scratching murmur which are found in Dressler’s syndrome. This patient likely has Dressler’s Syndrome.\"\n",
    "\n",
    "case3 = \"A 22-year-old man is brought to the emergency department by police after he was found undressing himself outside in 110F weather. The patient refuses to answer any questions as he suspects that his care team is spying on him. The patient recently started college and has presented to the emergency department once before for polysubstance intoxication. The patient attempts to assault a nurse, is restrained, and given diphenhydramine and haloperidol. When the patient is able to be examined, he is somnolent and non-responsive. His temperature is 104F (40C), blood pressure is 147/98 mmHg, pulse is 120/min, respirations are 17/min, and oxygen saturation is 98% on room air. He does not comply with any commands, and it is not possible to freely manipulate his extremities due to rigidity. His mucous membranes are dry. What is the most likely diagnosis?\"\n",
    "\n",
    "prompt = f\"\"\"\n",
    "Use symptom, signs, and laboratory disease associations to step by step deduce the correct response.\n",
    "\n",
    "Case 1: {case1}\n",
    "\n",
    "Rationale 1: {rationale1}\n",
    "\n",
    "Case 2: {case2}\n",
    "\n",
    "Rationale 2: {rationale2}\n",
    "\n",
    "Case 3: {case3}\n",
    "\"\"\"\n",
    "print(prompt)"
   ]
  },
  {
   "cell_type": "code",
   "execution_count": 7,
   "id": "fbc1d05d",
   "metadata": {},
   "outputs": [
    {
     "name": "stdout",
     "output_type": "stream",
     "text": [
      "Rationale 3: This patient presents with altered mental status, hyperthermia, autonomic instability (hypertension, tachycardia), and muscle rigidity, which are characteristic of neuroleptic malignant syndrome (NMS). The recent administration of haloperidol, an antipsychotic medication, likely triggered this condition. The most likely diagnosis is neuroleptic malignant syndrome.\n"
     ]
    }
   ],
   "source": [
    "## OPENAI KEY\n",
    "from openai import OpenAI\n",
    "\n",
    "client = OpenAI(\n",
    "  base_url = \"https://integrate.api.nvidia.com/v1\",\n",
    "  api_key = \"nvapi-\"\n",
    ")\n",
    "\n",
    "response = client.chat.completions.create(\n",
    "  #model=\"nvidia/nemotron-4-340b-instruct\",\n",
    "  model=\"microsoft/phi-3-medium-4k-instruct\",    \n",
    "  messages=[{\"role\":\"user\",\"content\":prompt}],\n",
    "  temperature=0.2,\n",
    "  top_p=0.7,\n",
    "  max_tokens=1024,\n",
    ")\n",
    "print(response.choices[0].message.content)"
   ]
  },
  {
   "cell_type": "markdown",
   "id": "27f7ffa3",
   "metadata": {},
   "source": [
    "## Clinical reasoning prompts\n",
    "- Analytic reasoning CoT"
   ]
  },
  {
   "cell_type": "code",
   "execution_count": null,
   "id": "42eab394",
   "metadata": {},
   "outputs": [],
   "source": [
    "case1 = \"Shortly after undergoing a bipolar prosthesis for a displaced femoral neck fracture of the left hip acquired after a fall the day before, an 80-year-old woman suddenly develops dyspnea. The surgery under general anesthesia with sevoflurane was uneventful, lasting 98 min, during which the patient maintained oxygen saturation readings of 100% on 8 l of oxygen. She has a history of hypertension, osteoporosis, and osteoarthritis of her right knee. Her medications include ramipril, naproxen, ranitidine, and a multivitamin. She appears cyanotic, drowsy, and is oriented only to person. Her temperature is 38.6 °C (101.5 °F), pulse is 135/min, respirations are 36/min, and blood pressure is 155/95 mm Hg. Pulse oximetry on room air shows an oxygen saturation of 81%. There are several scattered petechiae on the anterior chest wall. Laboratory studies show a hemoglobin concentration of 10.5 g/dl, a leukocyte count of 9000/mm3, a platelet count of 145,000/mm3, and a creatine kinase of 190 U/l. An ECG shows sinus tachycardia. What is the most likely diagnosis?\"\n",
    "rationale1 = \"The patient recently had large bone surgery making fat emboli a potential cause because the bone marrow was manipulated. Petechiae can form in response to capillary inflammation caused by fat emboli. Fat micro globules cause CNS microcirculation occlusion causing confusion and altered mental status. Fat obstruction in the pulmonary arteries can cause tachycardia and shortness of breath as seen in this patient. This patient most likely has a fat embolism.\"\n",
    "\n",
    "case2 = \"A 55-year-old man comes to the emergency department because of a dry cough and severe chest pain beginning that morning. Two months ago, he was diagnosed with inferior wall myocardial infarction and was treated with stent implantation of the right coronary artery. He has a history of hypertension and hypercholesterolemia. His medications include aspirin, clopidogrel, atorvastatin, and enalapril. His temperature is 38.5Â°C (101.3 °F), pulse is 92/min, respirations are 22/min, and blood pressure is 130/80 mm Hg. Cardiac examination shows a high-pitched scratching sound best heard while sitting upright and during expiration. The remainder of the examination shows no abnormalities. An ECG shows diffuse ST elevations. Serum studies show a troponin I of 0.005 ng/ml (N < 0.01). What is the most likely cause of this patient’s symptoms?\"\n",
    "rationale2 = \"This patient had a recent myocardial infarction which can cause myocardial inflammation that causes pericarditis and Dressler Syndrome. The diffuse ST elevations and high pitched scratching murmur can be signs of pericardial inflammation as the inflamed pericardium rubs against the pleura as seen with Dressler Syndrome. This patient likely has Dressler Syndrome.\"\n",
    "\n",
    "case3 = \"A 22-year-old man is brought to the emergency department by police after he was found undressing himself outside in 110F weather. The patient refuses to answer any questions as he suspects that his care team is spying on him. The patient recently started college and has presented to the emergency department once before for polysubstance intoxication. The patient attempts to assault a nurse, is restrained, and given diphenhydramine and haloperidol. When the patient is able to be examined, he is somnolent and non-responsive. His temperature is 104F (40C), blood pressure is 147/98 mmHg, pulse is 120/min, respirations are 17/min, and oxygen saturation is 98% on room air. He does not comply with any commands, and it is not possible to freely manipulate his extremities due to rigidity. His mucous membranes are dry. What is the most likely diagnosis?\"\n",
    "\n",
    "prompt = f\"\"\"\n",
    "Use analytic reasoning to deduce the physiologic or biochemical pathophysiology of the patient and step by step identify the correct response.\n",
    "\n",
    "Case 1: {case1}\n",
    "\n",
    "Rationale 1: {rationale1}\n",
    "\n",
    "Case 2: {case2}\n",
    "\n",
    "Rationale 2: {rationale2}\n",
    "\n",
    "Case 3: {case3}\n",
    "\"\"\"\n",
    "print(prompt)"
   ]
  },
  {
   "cell_type": "code",
   "execution_count": 10,
   "id": "650da7eb",
   "metadata": {},
   "outputs": [
    {
     "name": "stdout",
     "output_type": "stream",
     "text": [
      "Rationale 3: The patient's presentation of hyperthermia, altered mental status, autonomic instability (elevated blood pressure and tachycardia), and muscle rigidity, along with a history of recent substance use, is suggestive of serotonin syndrome. Serotonin syndrome is a potentially life-threatening condition caused by an excess of serotonin in the central nervous system, often due to the use of serotonergic medications or illicit drugs. The patient's recent history of polysubstance intoxication and the presentation of symptoms consistent with serotonin syndrome make this the most likely diagnosis.\n"
     ]
    }
   ],
   "source": [
    "## OPENAI KEY\n",
    "from openai import OpenAI\n",
    "\n",
    "client = OpenAI(\n",
    "  base_url = \"https://integrate.api.nvidia.com/v1\",\n",
    "  api_key = \"nvapi-\"\n",
    ")\n",
    "\n",
    "response = client.chat.completions.create(\n",
    "  #model=\"nvidia/nemotron-4-340b-instruct\",\n",
    "  model=\"microsoft/phi-3-medium-4k-instruct\",    \n",
    "  messages=[{\"role\":\"user\",\"content\":prompt}],\n",
    "  temperature=0.2,\n",
    "  top_p=0.7,\n",
    "  max_tokens=1024,\n",
    ")\n",
    "print(response.choices[0].message.content)"
   ]
  },
  {
   "cell_type": "markdown",
   "id": "1fcaca4a",
   "metadata": {},
   "source": [
    "## Clinical reasoning prompts\n",
    "- Bayesian reasoning CoT"
   ]
  },
  {
   "cell_type": "code",
   "execution_count": 12,
   "id": "3c78e809",
   "metadata": {},
   "outputs": [
    {
     "name": "stdout",
     "output_type": "stream",
     "text": [
      "\n",
      "Use step-by-step Bayesian Inference to create a prior probability that is updated with new information in the history to produce a posterior probability and determine the final diagnosis.\n",
      "\n",
      "Case 1: Shortly after undergoing a bipolar prosthesis for a displaced femoral neck fracture of the left hip acquired after a fall the day before, an 80-year-old woman suddenly develops dyspnea. The surgery under general anesthesia with sevoflurane was uneventful, lasting 98 min, during which the patient maintained oxygen saturation readings of 100% on 8 l of oxygen. She has a history of hypertension, osteoporosis, and osteoarthritis of her right knee. Her medications include ramipril, naproxen, ranitidine, and a multivitamin. She appears cyanotic, drowsy, and is oriented only to person. Her temperature is 38.6 °C (101.5 °F), pulse is 135/min, respirations are 36/min, and blood pressure is 155/95 mm Hg. Pulse oximetry on room air shows an oxygen saturation of 81%. There are several scattered petechiae on the anterior chest wall. Laboratory studies show a hemoglobin concentration of 10.5 g/dl, a leukocyte count of 9000/mm3, a platelet count of 145,000/mm3, and a creatine kinase of 190 U/l. An ECG shows sinus tachycardia. What is the most likely diagnosis?\n",
      "\n",
      "Rationale 1: The prior probability of fat embolism is 0.05% however the patient has petechiae on exam which is seen with fat emboli, which increases the posterior probability of fat embolism to 5%. Altered mental status increases the probability further to 10%. Recent orthopedic surgery increases the probability of fat emboli syndrome to 60%. This patient most likely has a fat embolism.\n",
      "\n",
      "Case 2: A 55-year-old man comes to the emergency department because of a dry cough and severe chest pain beginning that morning. Two months ago, he was diagnosed with inferior wall myocardial infarction and was treated with stent implantation of the right coronary artery. He has a history of hypertension and hypercholesterolemia. His medications include aspirin, clopidogrel, atorvastatin, and enalapril. His temperature is 38.5Â°C (101.3 °F), pulse is 92/min, respirations are 22/min, and blood pressure is 130/80 mm Hg. Cardiac examination shows a high-pitched scratching sound best heard while sitting upright and during expiration. The remainder of the examination shows no abnormalities. An ECG shows diffuse ST elevations. Serum studies show a troponin I of 0.005 ng/ml (N < 0.01). What is the most likely cause of this patient’s symptoms?\n",
      "\n",
      "Rationale 2: The prior probability of Dressler Syndrome is 0.01%. The patient has diffuse ST elevations, increasing the probability of Dressler Syndrome to 5%. The patient has a scratching murmur which increases the probability to 10%. In the setting of a recent MI the posterior probability of myocardial infarction is 55%. This patient likely has Dressler Syndrome.\n",
      "\n",
      "Case 3: A 22-year-old man is brought to the emergency department by police after he was found undressing himself outside in 110F weather. The patient refuses to answer any questions as he suspects that his care team is spying on him. The patient recently started college and has presented to the emergency department once before for polysubstance intoxication. The patient attempts to assault a nurse, is restrained, and given diphenhydramine and haloperidol. When the patient is able to be examined, he is somnolent and non-responsive. His temperature is 104F (40C), blood pressure is 147/98 mmHg, pulse is 120/min, respirations are 17/min, and oxygen saturation is 98% on room air. He does not comply with any commands, and it is not possible to freely manipulate his extremities due to rigidity. His mucous membranes are dry. What is the most likely diagnosis?\n",
      "\n"
     ]
    }
   ],
   "source": [
    "case1 = \"Shortly after undergoing a bipolar prosthesis for a displaced femoral neck fracture of the left hip acquired after a fall the day before, an 80-year-old woman suddenly develops dyspnea. The surgery under general anesthesia with sevoflurane was uneventful, lasting 98 min, during which the patient maintained oxygen saturation readings of 100% on 8 l of oxygen. She has a history of hypertension, osteoporosis, and osteoarthritis of her right knee. Her medications include ramipril, naproxen, ranitidine, and a multivitamin. She appears cyanotic, drowsy, and is oriented only to person. Her temperature is 38.6 °C (101.5 °F), pulse is 135/min, respirations are 36/min, and blood pressure is 155/95 mm Hg. Pulse oximetry on room air shows an oxygen saturation of 81%. There are several scattered petechiae on the anterior chest wall. Laboratory studies show a hemoglobin concentration of 10.5 g/dl, a leukocyte count of 9000/mm3, a platelet count of 145,000/mm3, and a creatine kinase of 190 U/l. An ECG shows sinus tachycardia. What is the most likely diagnosis?\"\n",
    "rationale1 = \"The prior probability of fat embolism is 0.05% however the patient has petechiae on exam which is seen with fat emboli, which increases the posterior probability of fat embolism to 5%. Altered mental status increases the probability further to 10%. Recent orthopedic surgery increases the probability of fat emboli syndrome to 60%. This patient most likely has a fat embolism.\"\n",
    "\n",
    "case2 = \"A 55-year-old man comes to the emergency department because of a dry cough and severe chest pain beginning that morning. Two months ago, he was diagnosed with inferior wall myocardial infarction and was treated with stent implantation of the right coronary artery. He has a history of hypertension and hypercholesterolemia. His medications include aspirin, clopidogrel, atorvastatin, and enalapril. His temperature is 38.5Â°C (101.3 °F), pulse is 92/min, respirations are 22/min, and blood pressure is 130/80 mm Hg. Cardiac examination shows a high-pitched scratching sound best heard while sitting upright and during expiration. The remainder of the examination shows no abnormalities. An ECG shows diffuse ST elevations. Serum studies show a troponin I of 0.005 ng/ml (N < 0.01). What is the most likely cause of this patient’s symptoms?\"\n",
    "rationale2 = \"The prior probability of Dressler Syndrome is 0.01%. The patient has diffuse ST elevations, increasing the probability of Dressler Syndrome to 5%. The patient has a scratching murmur which increases the probability to 10%. In the setting of a recent MI the posterior probability of myocardial infarction is 55%. This patient likely has Dressler Syndrome.\"\n",
    "\n",
    "case3 = \"A 22-year-old man is brought to the emergency department by police after he was found undressing himself outside in 110F weather. The patient refuses to answer any questions as he suspects that his care team is spying on him. The patient recently started college and has presented to the emergency department once before for polysubstance intoxication. The patient attempts to assault a nurse, is restrained, and given diphenhydramine and haloperidol. When the patient is able to be examined, he is somnolent and non-responsive. His temperature is 104F (40C), blood pressure is 147/98 mmHg, pulse is 120/min, respirations are 17/min, and oxygen saturation is 98% on room air. He does not comply with any commands, and it is not possible to freely manipulate his extremities due to rigidity. His mucous membranes are dry. What is the most likely diagnosis?\"\n",
    "\n",
    "prompt = f\"\"\"\n",
    "Use step-by-step Bayesian Inference to create a prior probability that is updated with new information in the history to produce a posterior probability and determine the final diagnosis.\n",
    "\n",
    "Case 1: {case1}\n",
    "\n",
    "Rationale 1: {rationale1}\n",
    "\n",
    "Case 2: {case2}\n",
    "\n",
    "Rationale 2: {rationale2}\n",
    "\n",
    "Case 3: {case3}\n",
    "\"\"\"\n",
    "print(prompt)"
   ]
  },
  {
   "cell_type": "code",
   "execution_count": 13,
   "id": "513f0b23",
   "metadata": {},
   "outputs": [
    {
     "name": "stdout",
     "output_type": "stream",
     "text": [
      "Rationale 3: The prior probability of Neuroleptic Malignant Syndrome (NMS) is 0.001%. The patient has a high fever, rigidity, altered mental status, and autonomic instability, which increases the probability of NMS to 50%. The recent administration of haloperidol, a dopamine antagonist, further increases the probability to 90%. This patient likely has Neuroleptic Malignant Syndrome.\n"
     ]
    }
   ],
   "source": [
    "## OPENAI KEY\n",
    "from openai import OpenAI\n",
    "\n",
    "client = OpenAI(\n",
    "  base_url = \"https://integrate.api.nvidia.com/v1\",\n",
    "  api_key = \"nvapi-\"\n",
    ")\n",
    "\n",
    "response = client.chat.completions.create(\n",
    "  #model=\"nvidia/nemotron-4-340b-instruct\",\n",
    "  model=\"microsoft/phi-3-medium-4k-instruct\",    \n",
    "  messages=[{\"role\":\"user\",\"content\":prompt}],\n",
    "  temperature=0.2,\n",
    "  top_p=0.7,\n",
    "  max_tokens=1024,\n",
    ")\n",
    "print(response.choices[0].message.content)"
   ]
  },
  {
   "cell_type": "code",
   "execution_count": null,
   "id": "fab843e9",
   "metadata": {},
   "outputs": [],
   "source": []
  }
 ],
 "metadata": {
  "kernelspec": {
   "display_name": "Python 3 (ipykernel)",
   "language": "python",
   "name": "python3"
  },
  "language_info": {
   "codemirror_mode": {
    "name": "ipython",
    "version": 3
   },
   "file_extension": ".py",
   "mimetype": "text/x-python",
   "name": "python",
   "nbconvert_exporter": "python",
   "pygments_lexer": "ipython3",
   "version": "3.10.12"
  }
 },
 "nbformat": 4,
 "nbformat_minor": 5
}
