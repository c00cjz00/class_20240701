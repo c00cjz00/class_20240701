{
  "nbformat": 4,
  "nbformat_minor": 0,
  "metadata": {
    "colab": {
      "provenance": [],
      "collapsed_sections": [
        "OK5hi50dDqGm",
        "c3d95NAQDf_Y",
        "ShAT8rw_ELIX"
      ]
    },
    "kernelspec": {
      "name": "python3",
      "display_name": "Python 3"
    },
    "language_info": {
      "name": "python"
    }
  },
  "cells": [
    {
      "cell_type": "markdown",
      "source": [
        "# Configuration\n",
        "\n",
        "In this tutorial, we will use GPT-3.5 and GPT-4 through Azure OpenAI (AOAI) API due to its HIPAA compliance."
      ],
      "metadata": {
        "id": "OK5hi50dDqGm"
      }
    },
    {
      "cell_type": "code",
      "execution_count": null,
      "metadata": {
        "id": "LXOhHZvQ9dGW"
      },
      "outputs": [],
      "source": [
        "# install the openai package\n",
        "!pip install openai\n",
        "\n",
        "# For biomedical RAG with custom corpora / retriever / LLMs, please use our MedRAG toolkit: https://github.com/Teddy-XiongGZ/MedRAG (not covered in this tutorial)"
      ]
    },
    {
      "cell_type": "code",
      "source": [
        "from openai import OpenAI\n",
        "import json\n",
        "1\n",
        "# The API key is only valid during the tutorial\n",
        "# https://build.nvidia.com/nvidia/nemotron-4-340b-instruct\n",
        "client = OpenAI(\n",
        "  base_url = \"https://integrate.api.nvidia.com/v1\",\n",
        "  api_key = \"nvapi-\"\n",
        ")\n",
        "\n",
        "# Normally, people put the API keys in the environment\n",
        "# client = AzureOpenAI(\n",
        "#\tapi_version=\"2023-09-01-preview\",\n",
        "#\tazure_endpoint=os.getenv(\"OPENAI_ENDPOINT\"),\n",
        "#\tapi_key=os.getenv(\"OPENAI_API_KEY\"),\n",
        "#)"
      ],
      "metadata": {
        "id": "o1Y5tXymW9ir"
      },
      "execution_count": null,
      "outputs": []
    },
    {
      "cell_type": "markdown",
      "source": [
        "# Retrieval Utilities (Corpus = PubMed; Retriever = Best Match)"
      ],
      "metadata": {
        "id": "c3d95NAQDf_Y"
      }
    },
    {
      "cell_type": "code",
      "source": [
        "import requests\n",
        "import json\n",
        "import time\n",
        "from xml.etree import ElementTree\n",
        "\n",
        "def retrieve_pubmed(query, retmax=5):\n",
        "    # for the rate limit\n",
        "    time.sleep(1/3)\n",
        "\n",
        "    # Define the base URL for the E-utilities\n",
        "    base_url = \"https://eutils.ncbi.nlm.nih.gov/entrez/eutils/\"\n",
        "\n",
        "    # Define the esearch URL\n",
        "    esearch_url = base_url + \"esearch.fcgi\"\n",
        "\n",
        "    # Define the parameters for the esearch query\n",
        "    params = {\n",
        "        \"db\": \"pubmed\",\n",
        "        \"term\": query,\n",
        "        \"retmax\": retmax,\n",
        "        \"retmode\": \"json\",\n",
        "        \"sort\": \"relevance\",\n",
        "    }\n",
        "\n",
        "    # Make the request to the esearch utility\n",
        "    response = requests.get(esearch_url, params=params)\n",
        "\n",
        "    # Parse the JSON response\n",
        "    data = response.json()\n",
        "\n",
        "    # Extract the PMIDs\n",
        "    pmids = data[\"esearchresult\"][\"idlist\"]\n",
        "\n",
        "    return pmids\n",
        "\n",
        "def get_pubmed_titles_abstracts_json(pmids):\n",
        "    # for the rate limit\n",
        "    time.sleep(1/3)\n",
        "\n",
        "    # Define the base URL for the BioC API\n",
        "    bioc_url = \"https://www.ncbi.nlm.nih.gov/research/bionlp/RESTful/pubmed.cgi/BioC_json/\"\n",
        "\n",
        "    # Join the PMIDs into a single string\n",
        "    pmids_str = \",\".join(pmids)\n",
        "\n",
        "    # Make the request to the BioC API\n",
        "    response = requests.get(f\"{bioc_url}{pmids_str}/unicode\")\n",
        "\n",
        "    # Check if the response is successful\n",
        "    if response.status_code != 200:\n",
        "        raise Exception(\"Failed to retrieve data from BioC API\")\n",
        "\n",
        "    # Parse the JSON response\n",
        "    bioc_data = response.json()\n",
        "\n",
        "    # Extract titles and abstracts\n",
        "    articles_dict = {}\n",
        "    for entry in bioc_data:\n",
        "        for document in entry[\"documents\"]:\n",
        "            pmid = document[\"id\"]\n",
        "            title = \"\"\n",
        "            abstract = \"\"\n",
        "\n",
        "            for passage in document[\"passages\"]:\n",
        "                if passage[\"infons\"][\"type\"] == \"title\":\n",
        "                    title = passage[\"text\"]\n",
        "                elif passage[\"infons\"][\"type\"] == \"abstract\":\n",
        "                    abstract = passage[\"text\"]\n",
        "\n",
        "            articles_dict[pmid] = {\"title\": title, \"abstract\": abstract}\n",
        "\n",
        "    # Ensure the order matches the input PMIDs\n",
        "    articles = [articles_dict[pmid] for pmid in pmids if pmid in articles_dict]\n",
        "\n",
        "    return articles\n",
        "\n",
        "pmids = retrieve_pubmed(\"Do preoperative statins reduce atrial fibrillation after coronary artery bypass grafting?\")\n",
        "#pmids = retrieve_pubmed(\"diabetes\")\n",
        "print(json.dumps(pmids))\n",
        "contents = get_pubmed_titles_abstracts_json(pmids)\n",
        "print(json.dumps(contents, indent=4))\n",
        "\n",
        "# 5 minutes coding"
      ],
      "metadata": {
        "id": "pMzmcvs_AOCA"
      },
      "execution_count": null,
      "outputs": []
    },
    {
      "cell_type": "markdown",
      "source": [
        "# Dataset"
      ],
      "metadata": {
        "id": "2KG6FT_UEBTx"
      }
    },
    {
      "cell_type": "code",
      "source": [
        "# sampled instances from PubMedQA (first 6) and BioASQ (last 6)\n",
        "# Jin et al., PubMedQA: A Dataset for Biomedical Research Question Answering\n",
        "# Krithara et al., BioASQ-QA: A manually curated corpus for Biomedical Question Answering\n",
        "\n",
        "datasetBK = [\n",
        "    {\"question\": \"Is hypoalbuminemia an independent prognostic factor in patients with gastric cancer?\", \"answer\": \"no\"},\n",
        "    {\"question\": \"Are endothelial cell patterns of astrocytomas indicative of grade?\", \"answer\": \"yes\"},\n",
        "    {\"question\": \"Are the long-term results of the transanal pull-through equal to those of the transabdominal pull-through?\", \"answer\": \"no\"},\n",
        "    {\"question\": \"Is adjustment for reporting heterogeneity necessary in sleep disorders?\", \"answer\": \"no\"},\n",
        "    {\"question\": \"Is halofantrine ototoxic?\", \"answer\": \"yes\"},\n",
        "    {\"question\": \"Do mutations causing low HDL-C promote increased carotid intima-media thickness?\", \"answer\": \"no\"},\n",
        "    {\"question\": \"Can losartan reduce brain atrophy in Alzheimer's disease?\", \"answer\": \"no\"},\n",
        "    {\"question\": \"Is PRP-40 regulation of microexons a conserved phenomenon?\", \"answer\": \"yes\"},\n",
        "    {\"question\": \"Does CIDEB mutation protect from liver disease?\", \"answer\": \"yes\"},\n",
        "    {\"question\": \"Is levosimendan effective for amyotrophic lateral sclerosis?\", \"answer\": \"no\"},\n",
        "    {\"question\": \"Is Iron deficiency anemia a common complication of chronic kidney disease?\", \"answer\": \"yes\"},\n",
        "    {\"question\": \"Is Zanubrutinib a first-generation BTK inhibitor approved by US Food and Drug Administration (FDA)?\", \"answer\": \"no\"},\n",
        "]\n",
        "\n",
        "\n",
        "# 先測試兩個範例題目\n",
        "dataset = [\n",
        "    {\"question\": \"Is hypoalbuminemia an independent prognostic factor in patients with gastric cancer?\", \"answer\": \"no\"}\n",
        "]\n"
      ],
      "metadata": {
        "id": "AM6cLtvJDbqf"
      },
      "execution_count": null,
      "outputs": []
    },
    {
      "cell_type": "markdown",
      "source": [
        "# Running Baseline (Direct Prompting)"
      ],
      "metadata": {
        "id": "ShAT8rw_ELIX"
      }
    },
    {
      "cell_type": "code",
      "source": [
        "from sklearn.metrics import accuracy_score\n",
        "\n",
        "#for model in [\"microsoft/phi-3-medium-4k-instruct\",\"nvidia/nemotron-4-340b-instruct\"]:\n",
        "for model in [\"nvidia/nemotron-4-340b-instruct\"]:\n",
        "\n",
        "    preds = []\n",
        "    answers = []\n",
        "\n",
        "    for entry in dataset:\n",
        "        question = entry[\"question\"]\n",
        "\n",
        "        # it should be noted that normally you should ask the model to think step-by-step\n",
        "        messages = [\n",
        "            {\"role\": \"system\", \"content\": \"You are a helpful assistant for answering biomedical questions. Please only output \\\"yes\\\" or \\\"no\\\".\"},\n",
        "            {\"role\": \"user\", \"content\": question}\n",
        "        ]\n",
        "        print(messages)\n",
        "        response = client.chat.completions.create(\n",
        "            model=model,\n",
        "            messages=messages,\n",
        "            temperature=0.0002,\n",
        "        )\n",
        "\n",
        "        # most important output is the response (i.e., assistant) message\n",
        "        response_msg = response.choices[0].message.content\n",
        "        prediction = response_msg.lower().strip(\".\")\n",
        "        ground_truth = entry[\"answer\"]\n",
        "        preds.append(prediction)\n",
        "        answers.append(ground_truth)\n",
        "        print('prediction:')\n",
        "        print(prediction)\n",
        "        print('answer:')\n",
        "        print(ground_truth)\n",
        "\n",
        "    #print(model)\n",
        "    #print(prediction)\n",
        "    #print(ground_truth)\n",
        "    #print(\"Accuracy: \", accuracy_score(answers, preds))\n",
        "\n",
        "# 5 minutes coding"
      ],
      "metadata": {
        "id": "1G5VJjsoELRI"
      },
      "execution_count": null,
      "outputs": []
    },
    {
      "cell_type": "markdown",
      "source": [
        "# Running RAG"
      ],
      "metadata": {
        "id": "HppoIqNN2Moh"
      }
    },
    {
      "cell_type": "code",
      "source": [
        "from sklearn.metrics import accuracy_score\n",
        "\n",
        "#for model in [\"microsoft/phi-3-medium-4k-instruct\",\"nvidia/nemotron-4-340b-instruct\"]:\n",
        "for model in [\"nvidia/nemotron-4-340b-instruct\"]:\n",
        "\n",
        "    preds = []\n",
        "    answers = []\n",
        "\n",
        "    for entry in dataset:\n",
        "        question = entry[\"question\"]\n",
        "\n",
        "        # RAG-specific. First step is to find relevant articles\n",
        "        # sometimes you can use LLMs to re-write the question and do the search\n",
        "        # here we just use the raw question for the search\n",
        "        pmids = retrieve_pubmed(question)\n",
        "        contents = get_pubmed_titles_abstracts_json(pmids)\n",
        "\n",
        "        rag_prompt = \"Here are the relevant materials:\\n\"\n",
        "\n",
        "        for article in contents:\n",
        "            rag_prompt += \"Title: \" + article[\"title\"] + \"\\n\"\n",
        "            rag_prompt += \"Abstract: \" + article[\"abstract\"] + \"\\n\"\n",
        "\n",
        "        rag_prompt += \"Please answer this question based on the provided materials:\\n\"\n",
        "        rag_prompt += question\n",
        "\n",
        "        messages = [\n",
        "            {\"role\": \"system\", \"content\": \"You are a helpful assistant for answering biomedical questions. Please only output \\\"yes\\\" or \\\"no\\\".\"},\n",
        "            {\"role\": \"user\", \"content\": rag_prompt}\n",
        "        ]\n",
        "\n",
        "        response = client.chat.completions.create(\n",
        "            model=model,\n",
        "            messages=messages,\n",
        "            temperature=0.0002,\n",
        "        )\n",
        "\n",
        "        # most important output is the response (i.e., assistant) message\n",
        "        response_msg = response.choices[0].message.content\n",
        "        prediction = response_msg.lower().strip(\".\")\n",
        "        ground_truth = entry[\"answer\"]\n",
        "\n",
        "        preds.append(prediction)\n",
        "        answers.append(ground_truth)\n",
        "        print('prediction:')\n",
        "        print(prediction)\n",
        "        print('answer:')\n",
        "        print(ground_truth)\n",
        "\n",
        "    #print(model)\n",
        "    #print(\"Accuracy: \", accuracy_score(answers, preds))\n",
        "\n",
        "# 5 minutes coding"
      ],
      "metadata": {
        "id": "eVqoAOas2bGB"
      },
      "execution_count": null,
      "outputs": []
    },
    {
      "cell_type": "markdown",
      "source": [
        "# Assignment"
      ],
      "metadata": {
        "id": "4RvacVrRcNXJ"
      }
    },
    {
      "cell_type": "code",
      "source": [
        "question = \"Please list the most common symptoms associated with the long-term sequelae of COVID-19. Each symptom should list the source PMID.\""
      ],
      "metadata": {
        "id": "4RlILxEacQ2y"
      },
      "execution_count": null,
      "outputs": []
    },
    {
      "cell_type": "markdown",
      "source": [
        "# Contact\n",
        "If you have any questions, you are welcome to contact [Dr. Qiao Jin](https://andy-jqa.github.io/) by qiao.jin@nih.gov."
      ],
      "metadata": {
        "id": "egtSvSYtdI0X"
      }
    }
  ]
}