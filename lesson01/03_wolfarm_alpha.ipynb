{
  "nbformat": 4,
  "nbformat_minor": 0,
  "metadata": {
    "colab": {
      "provenance": []
    },
    "kernelspec": {
      "name": "python3",
      "display_name": "Python 3"
    },
    "language_info": {
      "name": "python"
    }
  },
  "cells": [
    {
      "cell_type": "code",
      "execution_count": null,
      "metadata": {
        "id": "QNqpHq979IgV"
      },
      "outputs": [],
      "source": [
        "pip install wolframalpha langchain-community nest_asyncio"
      ]
    },
    {
      "cell_type": "code",
      "source": [
        "import os\n",
        "import nest_asyncio\n",
        "nest_asyncio.apply()\n",
        "os.environ[\"WOLFRAM_ALPHA_APPID\"] = \"\""
      ],
      "metadata": {
        "id": "1Y2qXS809NF4"
      },
      "execution_count": null,
      "outputs": []
    },
    {
      "cell_type": "code",
      "source": [
        "from langchain_community.utilities.wolfram_alpha import WolframAlphaAPIWrapper"
      ],
      "metadata": {
        "id": "Y96vWfyo9URa"
      },
      "execution_count": null,
      "outputs": []
    },
    {
      "cell_type": "code",
      "source": [
        "wolfram = WolframAlphaAPIWrapper()"
      ],
      "metadata": {
        "id": "E1zDUbIk9XGV"
      },
      "execution_count": null,
      "outputs": []
    },
    {
      "cell_type": "code",
      "source": [
        "wolfram.run(\"What is 2x+5 = -3x + 7?\")"
      ],
      "metadata": {
        "id": "sIaXWfyU9qfF"
      },
      "execution_count": null,
      "outputs": []
    },
    {
      "cell_type": "code",
      "source": [],
      "metadata": {
        "id": "dYyFQM8h9rKs"
      },
      "execution_count": null,
      "outputs": []
    }
  ]
}