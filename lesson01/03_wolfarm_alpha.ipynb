{
  "nbformat": 4,
  "nbformat_minor": 0,
  "metadata": {
    "colab": {
      "provenance": []
    },
    "kernelspec": {
      "name": "python3",
      "display_name": "Python 3"
    },
    "language_info": {
      "name": "python"
    }
  },
  "cells": [
    {
      "cell_type": "code",
      "execution_count": null,
      "metadata": {
        "id": "QNqpHq979IgV"
      },
      "outputs": [],
      "source": [
        "pip install wolframalpha langchain-community nest_asyncio"
      ]
    },
    {
      "cell_type": "code",
      "source": [
        "import os\n",
        "import nest_asyncio\n",
        "from langchain_community.utilities.wolfram_alpha import WolframAlphaAPIWrapper"
      ],
      "metadata": {
        "id": "1Y2qXS809NF4"
      },
      "execution_count": null,
      "outputs": []
    },
    {
      "cell_type": "markdown",
      "source": [
        "## 申請WOLFRAM_ALPHA_APPID\n",
        "1. 請先到Wolfram Alpha官網註冊 https://www.wolframalpha.com/\n",
        "2. 申請 WOLFRAM_ALPHA_APPID\n",
        "3. 替換下方字串\"你的WOLFRAM_ALPHA_APPID\"\n",
        "4. 替換完成後執行程式碼"
      ],
      "metadata": {
        "id": "FLqsPcxFFCJ0"
      }
    },
    {
      "cell_type": "code",
      "source": [
        "nest_asyncio.apply()\n",
        "# os.environ[\"WOLFRAM_ALPHA_APPID\"] = \"你的WOLFRAM_ALPHA_APPID\"\n",
        "os.environ[\"WOLFRAM_ALPHA_APPID\"] = \"\""
      ],
      "metadata": {
        "id": "NivqpfmCFACE"
      },
      "execution_count": null,
      "outputs": []
    },
    {
      "cell_type": "code",
      "source": [
        "wolfram = WolframAlphaAPIWrapper()"
      ],
      "metadata": {
        "id": "E1zDUbIk9XGV"
      },
      "execution_count": null,
      "outputs": []
    },
    {
      "cell_type": "code",
      "source": [
        "result = wolfram.run(\"What is 2x+5 = -3x + 7?\")\n",
        "print(result)"
      ],
      "metadata": {
        "id": "sIaXWfyU9qfF"
      },
      "execution_count": null,
      "outputs": []
    },
    {
      "cell_type": "code",
      "source": [
        "result = wolfram.run(\"derivative of x^4 sin x\")\n",
        "print(result)"
      ],
      "metadata": {
        "id": "aoBZiVf8E6o9"
      },
      "execution_count": null,
      "outputs": []
    },
    {
      "cell_type": "markdown",
      "source": [
        "## 其他微積分指令參考範例: https://hackmd.io/@phonchi/S1eRoX8Hj"
      ],
      "metadata": {
        "id": "KYGxT6EXFv0n"
      }
    },
    {
      "cell_type": "code",
      "source": [],
      "metadata": {
        "id": "dYyFQM8h9rKs"
      },
      "execution_count": null,
      "outputs": []
    }
  ]
}