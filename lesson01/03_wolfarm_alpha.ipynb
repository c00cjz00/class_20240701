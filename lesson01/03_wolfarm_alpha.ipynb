{
  "nbformat": 4,
  "nbformat_minor": 0,
  "metadata": {
    "colab": {
      "provenance": []
    },
    "kernelspec": {
      "name": "python3",
      "display_name": "Python 3"
    },
    "language_info": {
      "name": "python"
    }
  },
  "cells": [
    {
      "cell_type": "code",
      "execution_count": null,
      "metadata": {
        "id": "QNqpHq979IgV"
      },
      "outputs": [],
      "source": [
        "pip install wolframalpha langchain-community nest_asyncio"
      ]
    },
    {
      "cell_type": "code",
      "source": [
        "import os\n",
        "import nest_asyncio\n",
        "nest_asyncio.apply()\n",
        "os.environ[\"WOLFRAM_ALPHA_APPID\"] = \"\""
      ],
      "metadata": {
        "id": "1Y2qXS809NF4"
      },
      "execution_count": 17,
      "outputs": []
    },
    {
      "cell_type": "code",
      "source": [
        "from langchain_community.utilities.wolfram_alpha import WolframAlphaAPIWrapper"
      ],
      "metadata": {
        "id": "Y96vWfyo9URa"
      },
      "execution_count": 13,
      "outputs": []
    },
    {
      "cell_type": "code",
      "source": [
        "wolfram = WolframAlphaAPIWrapper()"
      ],
      "metadata": {
        "id": "E1zDUbIk9XGV"
      },
      "execution_count": 14,
      "outputs": []
    },
    {
      "cell_type": "code",
      "source": [],
      "metadata": {
        "id": "xgYzInxI-WPK"
      },
      "execution_count": 15,
      "outputs": []
    },
    {
      "cell_type": "code",
      "source": [
        "wolfram.run(\"What is 2x+5 = -3x + 7?\")"
      ],
      "metadata": {
        "colab": {
          "base_uri": "https://localhost:8080/",
          "height": 36
        },
        "id": "sIaXWfyU9qfF",
        "outputId": "549f0afc-ce85-4358-cfa9-e5b8bc1f14a9"
      },
      "execution_count": 16,
      "outputs": [
        {
          "output_type": "execute_result",
          "data": {
            "text/plain": [
              "'Assumption: 2 x + 5 = -3 x + 7 \\nAnswer: x = 2/5'"
            ],
            "application/vnd.google.colaboratory.intrinsic+json": {
              "type": "string"
            }
          },
          "metadata": {},
          "execution_count": 16
        }
      ]
    },
    {
      "cell_type": "code",
      "source": [],
      "metadata": {
        "id": "dYyFQM8h9rKs"
      },
      "execution_count": null,
      "outputs": []
    }
  ]
}