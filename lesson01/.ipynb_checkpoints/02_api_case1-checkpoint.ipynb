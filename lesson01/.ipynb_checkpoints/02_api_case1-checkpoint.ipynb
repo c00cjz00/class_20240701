{
 "cells": [
  {
   "cell_type": "markdown",
   "id": "1d9ba909",
   "metadata": {},
   "source": [
    "## 02_api_case1.ipynb"
   ]
  },
  {
   "cell_type": "code",
   "execution_count": null,
   "id": "a94e0e6c",
   "metadata": {
    "tags": []
   },
   "outputs": [],
   "source": [
    "# 初始環境設定\n",
    "import os\n",
    "from pathlib import Path\n",
    "HOME = str(Path.home())\n",
    "Add_Binarry_Path=HOME+'/.local/bin'\n",
    "os.environ['PATH']=os.environ['PATH']+':'+Add_Binarry_Path"
   ]
  },
  {
   "cell_type": "code",
   "execution_count": null,
   "id": "5f3bc2ac",
   "metadata": {
    "tags": []
   },
   "outputs": [],
   "source": [
    "# PIP\n",
    "!pip install hf_transfer openai\n",
    "#!pip install hf_transfer langchain langchain-openai openai"
   ]
  },
  {
   "cell_type": "markdown",
   "id": "08433ccb",
   "metadata": {},
   "source": [
    "## OPENAI EXAMPLE"
   ]
  },
  {
   "cell_type": "code",
   "execution_count": null,
   "id": "28503ae8",
   "metadata": {
    "tags": []
   },
   "outputs": [],
   "source": [
    "## QA normal\n",
    "\n",
    "## OPENAI KEY\n",
    "from openai import OpenAI\n",
    "\n",
    "client = OpenAI(\n",
    "  base_url = \"https://integrate.api.nvidia.com/v1\",\n",
    "  api_key = \"nvapi-\"\n",
    ")\n",
    "\n",
    "response = client.chat.completions.create(\n",
    "  #model=\"nvidia/nemotron-4-340b-instruct\",\n",
    "  model=\"microsoft/phi-3-medium-4k-instruct\",    \n",
    "  messages=[{\"role\":\"user\",\"content\":\"請介紹五樣台灣小吃\"}],\n",
    "  temperature=0.2,\n",
    "  top_p=0.7,\n",
    "  max_tokens=1024,\n",
    ")\n",
    "print(response.choices[0].message.content)"
   ]
  },
  {
   "cell_type": "markdown",
   "id": "458da0df",
   "metadata": {},
   "source": [
    "## OPENAI EXAMPLE STREAM"
   ]
  },
  {
   "cell_type": "code",
   "execution_count": null,
   "id": "17cea0ea",
   "metadata": {
    "tags": []
   },
   "outputs": [],
   "source": [
    "# QA STREAM\n",
    "\n",
    "## OPENAI KEY\n",
    "from openai import OpenAI\n",
    "client = OpenAI(\n",
    "  base_url = \"https://integrate.api.nvidia.com/v1\",\n",
    "  api_key = \"nvapi-\"\n",
    ")\n",
    "\n",
    "response = client.chat.completions.create(\n",
    "  #model=\"nvidia/nemotron-4-340b-instruct\",\n",
    "  model=\"microsoft/phi-3-medium-4k-instruct\", \n",
    "  #messages=[{\"role\":\"user\",\"content\":\"請介紹五樣台灣小吃\"}],\n",
    "  messages = [\n",
    "    {\"role\": \"system\", \"content\": \"Your response must be limited to 2 lines.\"},\n",
    "    {\"role\": \"system\", \"content\": \"Your response must not be rude.\"},\n",
    "    {\"role\": \"system\", \"content\": \"Your response must be in English or German depending on the language from the query.\"},\n",
    "    {\"role\": \"system\", \"content\": \"You are a creative fashion designer.\"},\n",
    "    {\"role\": \"user\", \"content\": \"what is what?\"},\n",
    " ],     \n",
    "  temperature=0.2,\n",
    "  top_p=0.7,\n",
    "  max_tokens=1024,\n",
    "  stream=True\n",
    ")\n",
    "\n",
    "for chunk in response:\n",
    "  if chunk.choices[0].delta.content is not None:\n",
    "    print(chunk.choices[0].delta.content, end=\"\")\n",
    "\n"
   ]
  }
 ],
 "metadata": {
  "kernelspec": {
   "display_name": "Python 3 (ipykernel)",
   "language": "python",
   "name": "python3"
  },
  "language_info": {
   "codemirror_mode": {
    "name": "ipython",
    "version": 3
   },
   "file_extension": ".py",
   "mimetype": "text/x-python",
   "name": "python",
   "nbconvert_exporter": "python",
   "pygments_lexer": "ipython3",
   "version": "3.10.12"
  }
 },
 "nbformat": 4,
 "nbformat_minor": 5
}
