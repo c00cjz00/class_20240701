{
 "cells": [
  {
   "cell_type": "markdown",
   "id": "70646acc",
   "metadata": {},
   "source": [
    "# 01-transformers_case02.ipynb"
   ]
  },
  {
   "cell_type": "markdown",
   "id": "550fc607",
   "metadata": {},
   "source": [
    "# 安裝套件"
   ]
  },
  {
   "cell_type": "code",
   "execution_count": null,
   "id": "e7ea7103",
   "metadata": {},
   "outputs": [],
   "source": [
    "# 安裝套件\n",
    "!pip install accelerate transformers -q\n",
    "!pip install bitsandbytes -q\n",
    "#!pip install IProgress  ipywidgets -q\n",
    "#!pip install huggingface-hub -q"
   ]
  },
  {
   "cell_type": "markdown",
   "id": "6910524e",
   "metadata": {},
   "source": [
    "## Phi-3 CHAT"
   ]
  },
  {
   "cell_type": "code",
   "execution_count": null,
   "id": "8e0d6204",
   "metadata": {},
   "outputs": [],
   "source": [
    "# 主程式\n",
    "import torch\n",
    "from transformers import AutoModelForCausalLM, AutoTokenizer, pipeline\n",
    "model_id=\"microsoft/Phi-3-mini-4k-instruct\"\n",
    "\n",
    "model = AutoModelForCausalLM.from_pretrained(\n",
    "    model_id,\n",
    "    device_map=\"cuda\",\n",
    "    torch_dtype=\"auto\",\n",
    "    trust_remote_code=True,\n",
    ")\n",
    "\n",
    "tokenizer = AutoTokenizer.from_pretrained(model_id)\n",
    "\n",
    "messages = [\n",
    "    {\"role\": \"system\", \"content\": \"你是台灣人, 回答都用中文回答!\"},    \n",
    "    {\"role\": \"user\", \"content\": \"能提供香蕉和火龍果組合的吃法嗎？\"},\n",
    "    {\"role\": \"assistant\", \"content\": \"當然！這裡有一些香蕉和火龍果一起吃的方法： 1. 香蕉火龍果冰沙：將香蕉和火龍果與一些牛奶和蜂蜜混合在一起。 2. 香蕉和火龍果沙拉：將切片香蕉和火龍果與一些檸檬汁和蜂蜜混合在一起。\"},\n",
    "    {\"role\": \"user\", \"content\": \"求解 2x + 3 = 7 方程式怎麼樣？\"}\n",
    "]\n",
    "\n",
    "pipe = pipeline(\n",
    "    \"text-generation\",\n",
    "    model=model,\n",
    "    tokenizer=tokenizer,\n",
    ")\n",
    "\n",
    "terminators = [\n",
    "    pipe.tokenizer.eos_token_id,\n",
    "    pipe.tokenizer.convert_tokens_to_ids(\"<|eot_id|>\")\n",
    "]\n",
    "\n",
    "\n",
    "generation_args = {\n",
    "    \"max_new_tokens\": 500,\n",
    "    \"return_full_text\": False,\n",
    "    \"temperature\": 0.6,\n",
    "    \"top_p\": 0.9,\n",
    "    \"do_sample\": True,\n",
    "    #eos_token_id: terminators,\n",
    "}\n",
    "\n",
    "output = pipe(messages, **generation_args)\n",
    "\n",
    "output_message1=output[0]['generated_text']\n",
    "print(output_message1)\n"
   ]
  },
  {
   "cell_type": "code",
   "execution_count": null,
   "id": "fca7039a",
   "metadata": {},
   "outputs": [],
   "source": [
    "payload={\"role\": \"assistant\", \"content\":output_message1}\n",
    "messages.append(payload)\n",
    "payload={\"role\": \"user\", \"content\": \"上面描述的水果名稱是？\"}\n",
    "messages.append(payload)\n",
    "messages"
   ]
  },
  {
   "cell_type": "code",
   "execution_count": null,
   "id": "b275e56c",
   "metadata": {},
   "outputs": [],
   "source": [
    "output = pipe(messages, **generation_args)\n",
    "output_message2=output[0]['generated_text']\n",
    "print(output_message2)\n"
   ]
  },
  {
   "cell_type": "markdown",
   "id": "90b6e948",
   "metadata": {},
   "source": [
    "## LLAMA-3-8B"
   ]
  },
  {
   "cell_type": "code",
   "execution_count": null,
   "id": "a07b7db4",
   "metadata": {},
   "outputs": [],
   "source": [
    "# 主程式\n",
    "import torch\n",
    "from transformers import AutoModelForCausalLM, AutoTokenizer, pipeline\n",
    "import os\n",
    "os.environ[\"HF_TOKEN\"] = \"hf_\"\n",
    "model_id = \"meta-llama/Meta-Llama-3-8B-Instruct\"\n",
    "\n",
    "model = AutoModelForCausalLM.from_pretrained(\n",
    "    model_id,\n",
    "    device_map=\"cuda\",\n",
    "    torch_dtype=\"auto\",\n",
    "    trust_remote_code=True,\n",
    ")\n",
    "\n",
    "tokenizer = AutoTokenizer.from_pretrained(model_id)\n",
    "\n",
    "messages = [\n",
    "    {\"role\": \"system\", \"content\": \"你是台灣人, 回答都用中文回答!\"},\n",
    "    {\"role\": \"user\", \"content\": \"能提供香蕉和火龍果組合的吃法嗎？\"},\n",
    "    {\"role\": \"assistant\", \"content\": \"當然！這裡有一些香蕉和火龍果一起吃的方法： 1. 香蕉火龍果冰沙：將香蕉和火龍果與一些牛奶和蜂蜜混合在一起。 2. 香蕉和火龍果沙拉：將切片香蕉和火龍果與一些檸檬汁和蜂蜜混合在一起。\"},\n",
    "    {\"role\": \"user\", \"content\": \"求解 2x + 3 = 7 方程式怎麼樣？\"}\n",
    "]\n",
    "\n",
    "pipe = pipeline(\n",
    "    \"text-generation\",\n",
    "    model=model,\n",
    "    tokenizer=tokenizer,\n",
    ")\n",
    "\n",
    "terminators = [\n",
    "    pipe.tokenizer.eos_token_id,\n",
    "    pipe.tokenizer.convert_tokens_to_ids(\"<|eot_id|>\")\n",
    "]\n",
    "\n",
    "\n",
    "generation_args = {\n",
    "    \"max_new_tokens\": 500,\n",
    "    \"return_full_text\": False,\n",
    "    \"temperature\": 0.6,\n",
    "    \"top_p\": 0.9,\n",
    "    \"do_sample\": True,\n",
    "    \"eos_token_id\": terminators,\n",
    "}\n",
    "\n",
    "output = pipe(messages, **generation_args)\n",
    "\n",
    "output_message1=output[0]['generated_text']\n",
    "print(output_message1)\n"
   ]
  },
  {
   "cell_type": "code",
   "execution_count": null,
   "id": "4ed264bf",
   "metadata": {},
   "outputs": [],
   "source": [
    "payload={\"role\": \"assistant\", \"content\":output_message1}\n",
    "messages.append(payload)\n",
    "payload={\"role\": \"user\", \"content\": \"上面描述的水果名稱是？\"}\n",
    "messages.append(payload)\n",
    "messages"
   ]
  },
  {
   "cell_type": "code",
   "execution_count": null,
   "id": "ae7a89ce",
   "metadata": {},
   "outputs": [],
   "source": [
    "output = pipe(messages, **generation_args)\n",
    "output_message2=output[0]['generated_text']\n",
    "print(output_message2)\n"
   ]
  },
  {
   "cell_type": "code",
   "execution_count": null,
   "id": "0673b364",
   "metadata": {},
   "outputs": [],
   "source": []
  }
 ],
 "metadata": {
  "kernelspec": {
   "display_name": "Python 3 (ipykernel)",
   "language": "python",
   "name": "python3"
  },
  "language_info": {
   "codemirror_mode": {
    "name": "ipython",
    "version": 3
   },
   "file_extension": ".py",
   "mimetype": "text/x-python",
   "name": "python",
   "nbconvert_exporter": "python",
   "pygments_lexer": "ipython3",
   "version": "3.10.12"
  }
 },
 "nbformat": 4,
 "nbformat_minor": 5
}
