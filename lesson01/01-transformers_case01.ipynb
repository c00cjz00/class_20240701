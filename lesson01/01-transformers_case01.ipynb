{
 "cells": [
  {
   "cell_type": "markdown",
   "id": "efdbe2e6",
   "metadata": {},
   "source": [
    "# 01-transformers_case01.ipynb"
   ]
  },
  {
   "cell_type": "markdown",
   "id": "56b6fdc8",
   "metadata": {},
   "source": [
    "# 安裝套件"
   ]
  },
  {
   "cell_type": "code",
   "execution_count": null,
   "id": "489e2bdf",
   "metadata": {},
   "outputs": [],
   "source": [
    "# 安裝套件\n",
    "!pip install accelerate transformers -q\n",
    "#!pip install bitsandbytes -q\n",
    "#!pip install IProgress  ipywidgets -q\n",
    "#!pip install huggingface-hub -q"
   ]
  },
  {
   "cell_type": "markdown",
   "id": "d32e0242",
   "metadata": {},
   "source": [
    "# GPT2 接龍 demo01"
   ]
  },
  {
   "cell_type": "code",
   "execution_count": null,
   "id": "6d69874f",
   "metadata": {},
   "outputs": [],
   "source": [
    "from transformers import pipeline\n",
    "\n",
    "generator = pipeline(\"text-generation\")\n",
    "generator(\"THE SKY IS\")"
   ]
  },
  {
   "cell_type": "code",
   "execution_count": null,
   "id": "76ea46f2",
   "metadata": {},
   "outputs": [],
   "source": [
    "# GPT2 接龍 demo02"
   ]
  },
  {
   "cell_type": "code",
   "execution_count": null,
   "id": "e3669862",
   "metadata": {},
   "outputs": [],
   "source": [
    "from transformers import pipeline\n",
    "\n",
    "generator = pipeline(\"text-generation\")\n",
    "generator(\"THE SKY IS\",max_length=6,num_return_sequences=20)"
   ]
  },
  {
   "cell_type": "markdown",
   "id": "a023dfab",
   "metadata": {},
   "source": [
    "# Breeze 接龍"
   ]
  },
  {
   "cell_type": "code",
   "execution_count": null,
   "id": "6e671698",
   "metadata": {},
   "outputs": [],
   "source": [
    "# 模型下載\n",
    "from huggingface_hub import snapshot_download\n",
    "\n",
    "model_id=\"MediaTek-Research/Breeze-7B-Base-v1_0\"\n",
    "snapshot_download(\n",
    "    repo_id=model_id, \n",
    "    local_dir=\"models/MediaTek-Research/Breeze-7B-Base-v1_0\",\n",
    "    local_dir_use_symlinks=False,\n",
    "    revision=\"main\",\n",
    "    use_auth_token=\"hf_\")"
   ]
  },
  {
   "cell_type": "code",
   "execution_count": null,
   "id": "1a7e6e80",
   "metadata": {},
   "outputs": [],
   "source": [
    "import torch\n",
    "from transformers import pipeline\n",
    "model_id=\"MediaTek-Research/Breeze-7B-Base-v1_0\"\n",
    "generator = pipeline(\n",
    "    max_new_tokens=200,\n",
    "    task=\"text-generation\", \n",
    "    model=model_id,  \n",
    "    model_kwargs={\"torch_dtype\": torch.float16}, \n",
    "    device_map=\"auto\"\n",
    ")\n",
    "generator(\"今天天氣\")"
   ]
  },
  {
   "cell_type": "code",
   "execution_count": null,
   "id": "08a1b1e3",
   "metadata": {},
   "outputs": [],
   "source": []
  }
 ],
 "metadata": {
  "kernelspec": {
   "display_name": "Python 3 (ipykernel)",
   "language": "python",
   "name": "python3"
  },
  "language_info": {
   "codemirror_mode": {
    "name": "ipython",
    "version": 3
   },
   "file_extension": ".py",
   "mimetype": "text/x-python",
   "name": "python",
   "nbconvert_exporter": "python",
   "pygments_lexer": "ipython3",
   "version": "3.10.12"
  }
 },
 "nbformat": 4,
 "nbformat_minor": 5
}
