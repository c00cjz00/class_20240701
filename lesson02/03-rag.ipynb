{
 "cells": [
  {
   "cell_type": "markdown",
   "id": "e4f7591e",
   "metadata": {},
   "source": [
    "## Langchain Documents and Vector DB - sentence-transformers, ChromaDB"
   ]
  },
  {
   "cell_type": "markdown",
   "id": "383f4cf1",
   "metadata": {
    "tags": []
   },
   "source": [
    "1. VECTOR DB\n",
    "- https://huggingface.co/sentence-transformers\n",
    "- https://huggingface.co/sentence-transformers/all-MiniLM-L6-v2\n",
    "\n",
    "2. LANGCHAIN 手冊\n",
    "https://python.langchain.com/docs/integrations/vectorstores\n",
    "\n",
    "3. 學習LANGCHAIN -> Documents and Vector DB "
   ]
  },
  {
   "cell_type": "markdown",
   "id": "7cb02fe7",
   "metadata": {},
   "source": [
    "## 初始環境設定"
   ]
  },
  {
   "cell_type": "code",
   "execution_count": null,
   "id": "34f870f6",
   "metadata": {},
   "outputs": [],
   "source": [
    "import os\n",
    "from pathlib import Path\n",
    "HOME = str(Path.home())\n",
    "Add_Binarry_Path=HOME+'/.local/bin'\n",
    "os.environ['PATH']=os.environ['PATH']+':'+Add_Binarry_Path\n",
    "current_foldr=!pwd\n",
    "current_foldr=current_foldr[0]\n",
    "current_foldr"
   ]
  },
  {
   "cell_type": "markdown",
   "id": "ed96c795",
   "metadata": {},
   "source": [
    "## 安裝套件"
   ]
  },
  {
   "cell_type": "code",
   "execution_count": null,
   "id": "9c55b0bc",
   "metadata": {
    "tags": []
   },
   "outputs": [],
   "source": [
    "## For colab\n",
    "!pip install chromadb gdown langchain openai pypdf python-dotenv sentence-transformers -q"
   ]
  },
  {
   "cell_type": "markdown",
   "id": "cb9dd59d",
   "metadata": {},
   "source": [
    "### LOAD LIBRARY### 2. LOAD LIBRARY"
   ]
  },
  {
   "cell_type": "code",
   "execution_count": null,
   "id": "3063587f",
   "metadata": {
    "tags": []
   },
   "outputs": [],
   "source": [
    "# Load library\n",
    "from langchain.document_loaders import PyPDFLoader\n",
    "from langchain.text_splitter import RecursiveCharacterTextSplitter\n",
    "from langchain.embeddings import HuggingFaceEmbeddings\n",
    "from langchain.vectorstores import Chroma"
   ]
  },
  {
   "cell_type": "markdown",
   "id": "7e08b892",
   "metadata": {},
   "source": [
    "### 文件處理"
   ]
  },
  {
   "cell_type": "code",
   "execution_count": null,
   "id": "112b1a6a",
   "metadata": {},
   "outputs": [],
   "source": [
    "!mkdir -p data/pdf/\n",
    "!gdown 1AldhEWVCtcE50XARgSnXR0azZ965nNmT -O data/pdf/"
   ]
  },
  {
   "cell_type": "code",
   "execution_count": null,
   "id": "e4232c5b",
   "metadata": {
    "tags": []
   },
   "outputs": [],
   "source": [
    "# 文件入庫\n",
    "pdf_file='./data/pdf/e2729e76-29a0-4be5-9eef-67809b05d6b9.pdf'\n",
    "loader= PyPDFLoader(pdf_file)\n",
    "documents = loader.load()\n",
    "text_splitter = RecursiveCharacterTextSplitter(chunk_size=384, chunk_overlap=10)\n",
    "texts = text_splitter.split_documents(documents)\n",
    "\n",
    "print(len(texts))\n",
    "print(texts[3:4])"
   ]
  },
  {
   "cell_type": "markdown",
   "id": "ad990a84",
   "metadata": {
    "tags": []
   },
   "source": [
    "### 片段文字向量化與暫時存入資料庫"
   ]
  },
  {
   "cell_type": "code",
   "execution_count": null,
   "id": "6267576a",
   "metadata": {
    "tags": []
   },
   "outputs": [],
   "source": [
    "Embeddings_ID=\"sentence-transformers/all-MiniLM-L6-v2\"\n",
    "embeddings=HuggingFaceEmbeddings(model_name=Embeddings_ID)\n",
    "vectortdb = Chroma.from_documents(texts, embeddings)\n",
    "#DB_PATH = 'vectorstore/db_chroma'\n",
    "#vectortdb = Chroma.from_documents(documents=texts, embedding=embeddings, persist_directory=DB_PATH)"
   ]
  },
  {
   "cell_type": "markdown",
   "id": "ec7b3300",
   "metadata": {},
   "source": [
    "### 輸入文字像量化與暫存資料庫搜尋"
   ]
  },
  {
   "cell_type": "code",
   "execution_count": null,
   "id": "b71aaed2",
   "metadata": {
    "tags": []
   },
   "outputs": [],
   "source": [
    "import os\n",
    "\n",
    "# Load DB\n",
    "#Embeddings_ID=\"sentence-transformers/all-MiniLM-L6-v2\"\n",
    "#embeddings=HuggingFaceEmbeddings(model_name=Embeddings_ID)\n",
    "#DB_PATH = 'vectorstore/db_chroma'\n",
    "#vectortdb = Chroma(persist_directory=DB_PATH, embedding_function=embeddings)\n",
    "\n",
    "#: Test Search in Vector DB\n",
    "query = \"請說明本公司服務之資訊安全目標為何?\"\n",
    "source_documents=vectortdb.similarity_search(query, k=3)\n",
    "\n",
    "for i, doc in enumerate(source_documents):\n",
    "    page_content=source_documents[i].page_content\n",
    "    page=source_documents[i].metadata[\"page\"]\n",
    "    source=source_documents[i].metadata[\"source\"]\n",
    "    file = os.path.basename(source) \n",
    "    print(\"Source: \"+file+\", Page \"+str(page+1) )\n",
    "    print(page_content)\n",
    "    print(\"\\n\\n\")"
   ]
  },
  {
   "cell_type": "code",
   "execution_count": null,
   "id": "021aafd3",
   "metadata": {},
   "outputs": [],
   "source": [
    "## Content\n",
    "content= source_documents[1].page_content+\"\\n\"+source_documents[2].page_content+\"\\n\"\n",
    "content= \" <source>\"+content+\"</source>\"\n",
    "content"
   ]
  },
  {
   "cell_type": "code",
   "execution_count": null,
   "id": "1576d22d",
   "metadata": {},
   "outputs": [],
   "source": [
    "## RAG\n",
    "\n",
    "## OPENAI KEY\n",
    "from openai import OpenAI\n",
    "\n",
    "client = OpenAI(\n",
    "  base_url = \"https://integrate.api.nvidia.com/v1\",\n",
    "  api_key = \"nvapi-\"\n",
    ")\n",
    "\n",
    "messages=[\n",
    "      {\"role\":\"user\",\"content\": \"請使用 <source> 和 </source> 之間的參考資料來建立最終答案。如果你不知道答案，就說你不知道。不要試圖編造答案。\"},       \n",
    "      {\"role\":\"user\",\"content\": content},\n",
    "      {\"role\":\"user\",\"content\":\"Question: 請說明資訊安全管理系統的國際驗證規範\"},\n",
    "]\n",
    "response = client.chat.completions.create(\n",
    "  #model=\"nvidia/nemotron-4-340b-instruct\",\n",
    "  model=\"microsoft/phi-3-medium-4k-instruct\",    \n",
    "  messages=messages,\n",
    "  temperature=0.2,\n",
    "  top_p=0.7,\n",
    "  max_tokens=1024,\n",
    ")\n",
    "print(response.choices[0].message.content)"
   ]
  },
  {
   "cell_type": "code",
   "execution_count": null,
   "id": "09e189c6",
   "metadata": {},
   "outputs": [],
   "source": []
  }
 ],
 "metadata": {
  "colab": {
   "provenance": []
  },
  "jupyterlab": {
   "notebooks": {
    "version_major": 6,
    "version_minor": 4
   }
  },
  "kernelspec": {
   "display_name": "Python 3 (ipykernel)",
   "language": "python",
   "name": "python3"
  },
  "language_info": {
   "codemirror_mode": {
    "name": "ipython",
    "version": 3
   },
   "file_extension": ".py",
   "mimetype": "text/x-python",
   "name": "python",
   "nbconvert_exporter": "python",
   "pygments_lexer": "ipython3",
   "version": "3.10.12"
  },
  "singlestore_cell_default_language": "python",
  "singlestore_connection": {
   "connectionID": "8bd78932-964d-4d20-91bc-72bfc2f211f6",
   "defaultDatabase": ""
  }
 },
 "nbformat": 4,
 "nbformat_minor": 5
}
