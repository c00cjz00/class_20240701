{
 "cells": [
  {
   "cell_type": "markdown",
   "id": "50e77dbf",
   "metadata": {},
   "source": [
    "## Langchain Documents and Vector DB - OpenAI, ChromaDB"
   ]
  },
  {
   "cell_type": "markdown",
   "id": "b0f77350",
   "metadata": {},
   "source": [
    "## 初始環境設定"
   ]
  },
  {
   "cell_type": "code",
   "execution_count": null,
   "id": "856ac003",
   "metadata": {},
   "outputs": [],
   "source": [
    "import os\n",
    "from pathlib import Path\n",
    "HOME = str(Path.home())\n",
    "Add_Binarry_Path=HOME+'/.local/bin'\n",
    "os.environ['PATH']=os.environ['PATH']+':'+Add_Binarry_Path\n",
    "current_foldr=!pwd\n",
    "current_foldr=current_foldr[0]\n",
    "current_foldr"
   ]
  },
  {
   "cell_type": "markdown",
   "id": "4cb351a9",
   "metadata": {},
   "source": [
    "## 安裝套件"
   ]
  },
  {
   "cell_type": "code",
   "execution_count": null,
   "id": "dec62834",
   "metadata": {},
   "outputs": [],
   "source": [
    "## For colab\n",
    "!pip install chromadb gdown langchain openai pypdf python-dotenv sentence-transformers -q"
   ]
  },
  {
   "cell_type": "markdown",
   "id": "d2e416cf",
   "metadata": {},
   "source": [
    "### OPENAI API KEY"
   ]
  },
  {
   "cell_type": "code",
   "execution_count": null,
   "id": "4ab83204",
   "metadata": {
    "tags": []
   },
   "outputs": [],
   "source": [
    "# OPENAPI KEY method 1\n",
    "\n",
    "!echo \"OPENAI_API_KEY=sk-xxxxxxx\" > .env\n",
    "from dotenv import load_dotenv\n",
    "load_dotenv() # loads env variables"
   ]
  },
  {
   "cell_type": "code",
   "execution_count": null,
   "id": "873d1b88",
   "metadata": {},
   "outputs": [],
   "source": [
    "# OPENAPI KEY  method 2\n",
    "\n",
    "import os\n",
    "os.environ[\"OPENAI_API_KEY\"] = \"sk-xxxxxxx\""
   ]
  },
  {
   "cell_type": "code",
   "execution_count": null,
   "id": "437bb6e1",
   "metadata": {},
   "outputs": [],
   "source": [
    "# OPENAPI KEY  method 3\n",
    "\n",
    "import os\n",
    "from typing import TextIO\n",
    "from getpass import getpass\n",
    "os.environ[\"OPENAI_API_KEY\"] = getpass()"
   ]
  },
  {
   "cell_type": "markdown",
   "id": "c95129b3",
   "metadata": {},
   "source": [
    "### LOAD LIBRARY"
   ]
  },
  {
   "cell_type": "code",
   "execution_count": null,
   "id": "3f09c224",
   "metadata": {
    "tags": []
   },
   "outputs": [],
   "source": [
    "# Load library\n",
    "from langchain.document_loaders import PyPDFLoader\n",
    "from langchain.text_splitter import RecursiveCharacterTextSplitter\n",
    "from langchain.embeddings.openai import OpenAIEmbeddings\n",
    "from langchain.vectorstores import Chroma\n"
   ]
  },
  {
   "cell_type": "markdown",
   "id": "3249b652",
   "metadata": {},
   "source": [
    "### 文件處理"
   ]
  },
  {
   "cell_type": "code",
   "execution_count": null,
   "id": "044fd770",
   "metadata": {},
   "outputs": [],
   "source": [
    "!mkdir -p data/pdf/\n",
    "!gdown 1AldhEWVCtcE50XARgSnXR0azZ965nNmT -O data/pdf/"
   ]
  },
  {
   "cell_type": "code",
   "execution_count": null,
   "id": "09e9cf97",
   "metadata": {
    "tags": []
   },
   "outputs": [],
   "source": [
    "# 文件入庫\n",
    "pdf_file='./data/pdf/e2729e76-29a0-4be5-9eef-67809b05d6b9.pdf'\n",
    "loader= PyPDFLoader(pdf_file)\n",
    "documents = loader.load()\n",
    "text_splitter = RecursiveCharacterTextSplitter(chunk_size=1000, chunk_overlap=50)\n",
    "texts = text_splitter.split_documents(documents)\n",
    "\n",
    "print(len(texts))\n",
    "print(texts[3:6])"
   ]
  },
  {
   "cell_type": "markdown",
   "id": "278e02d2",
   "metadata": {
    "tags": []
   },
   "source": [
    "### 片段文字向量化與暫時存入資料庫"
   ]
  },
  {
   "cell_type": "code",
   "execution_count": null,
   "id": "8849c2be",
   "metadata": {
    "tags": []
   },
   "outputs": [],
   "source": [
    "embeddings = OpenAIEmbeddings()\n",
    "vectortdb = Chroma.from_documents(texts, embeddings)\n",
    "#DB_PATH = 'vectorstore/db_chroma'\n",
    "#vectortdb = Chroma.from_documents(documents=texts, embedding=embeddings, persist_directory=DB_PATH)"
   ]
  },
  {
   "cell_type": "markdown",
   "id": "9927d830",
   "metadata": {},
   "source": [
    "### 輸入文字像量化與暫存資料庫搜尋"
   ]
  },
  {
   "cell_type": "code",
   "execution_count": null,
   "id": "0568ee9a",
   "metadata": {
    "tags": []
   },
   "outputs": [],
   "source": [
    "# Load DB\n",
    "#embeddings = OpenAIEmbeddings()\n",
    "#DB_PATH = 'vectorstore/db_chroma'\n",
    "#vectortdb = Chroma(persist_directory=DB_PATH, embedding_function=embeddings)\n",
    "\n",
    "#: Test Search in Vector DB\n",
    "import os\n",
    "query = \"請說明櫃公司如何進行資產管理?\"\n",
    "source_documents=vectortdb.similarity_search(query, k=3)\n",
    "\n",
    "for i, doc in enumerate(source_documents):\n",
    "    page_content=source_documents[i].page_content\n",
    "    page=source_documents[i].metadata[\"page\"]\n",
    "    source=source_documents[i].metadata[\"source\"]\n",
    "    file = os.path.basename(source) \n",
    "    print(\"Source: \"+file+\", Page \"+str(page+1) )\n",
    "    print(page_content)\n",
    "    print(\"\\n\\n\")"
   ]
  },
  {
   "cell_type": "code",
   "execution_count": null,
   "id": "2b4ab234",
   "metadata": {},
   "outputs": [],
   "source": []
  }
 ],
 "metadata": {
  "colab": {
   "provenance": []
  },
  "jupyterlab": {
   "notebooks": {
    "version_major": 6,
    "version_minor": 4
   }
  },
  "kernelspec": {
   "display_name": "Python 3 (ipykernel)",
   "language": "python",
   "name": "python3"
  },
  "language_info": {
   "codemirror_mode": {
    "name": "ipython",
    "version": 3
   },
   "file_extension": ".py",
   "mimetype": "text/x-python",
   "name": "python",
   "nbconvert_exporter": "python",
   "pygments_lexer": "ipython3",
   "version": "3.10.12"
  },
  "singlestore_cell_default_language": "python",
  "singlestore_connection": {
   "connectionID": "8bd78932-964d-4d20-91bc-72bfc2f211f6",
   "defaultDatabase": ""
  }
 },
 "nbformat": 4,
 "nbformat_minor": 5
}
