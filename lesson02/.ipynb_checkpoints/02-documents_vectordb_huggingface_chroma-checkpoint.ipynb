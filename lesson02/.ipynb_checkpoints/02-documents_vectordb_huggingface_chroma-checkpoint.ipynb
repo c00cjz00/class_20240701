{
 "cells": [
  {
   "cell_type": "markdown",
   "id": "1f8adeb5",
   "metadata": {},
   "source": [
    "## Langchain Documents and Vector DB - sentence-transformers, ChromaDB"
   ]
  },
  {
   "cell_type": "markdown",
   "id": "e9486c6d",
   "metadata": {
    "tags": []
   },
   "source": [
    "1. VECTOR DB\n",
    "- https://huggingface.co/sentence-transformers\n",
    "- https://huggingface.co/sentence-transformers/all-MiniLM-L6-v2\n",
    "\n",
    "2. LANGCHAIN 手冊\n",
    "https://python.langchain.com/docs/integrations/vectorstores\n",
    "\n",
    "3. 學習LANGCHAIN -> Documents and Vector DB "
   ]
  },
  {
   "cell_type": "markdown",
   "id": "2de4b7c4",
   "metadata": {},
   "source": [
    "## 初始環境設定"
   ]
  },
  {
   "cell_type": "code",
   "execution_count": 10,
   "id": "fd7d9ec8",
   "metadata": {},
   "outputs": [
    {
     "data": {
      "text/plain": [
       "'/work/c00cjz00/github/LLAMA-on-HPC/class_20240704/class'"
      ]
     },
     "execution_count": 10,
     "metadata": {},
     "output_type": "execute_result"
    }
   ],
   "source": [
    "import os\n",
    "from pathlib import Path\n",
    "HOME = str(Path.home())\n",
    "Add_Binarry_Path=HOME+'/.local/bin'\n",
    "os.environ['PATH']=os.environ['PATH']+':'+Add_Binarry_Path\n",
    "current_foldr=!pwd\n",
    "current_foldr=current_foldr[0]\n",
    "current_foldr"
   ]
  },
  {
   "cell_type": "markdown",
   "id": "0d011fcb",
   "metadata": {},
   "source": [
    "## 安裝套件"
   ]
  },
  {
   "cell_type": "code",
   "execution_count": null,
   "id": "4d2cfce9",
   "metadata": {
    "tags": []
   },
   "outputs": [],
   "source": [
    "## For colab\n",
    "!pip install chromadb gdown langchain openai pypdf python-dotenv sentence-transformers -q"
   ]
  },
  {
   "cell_type": "markdown",
   "id": "e684ea69",
   "metadata": {},
   "source": [
    "### LOAD LIBRARY### 2. LOAD LIBRARY"
   ]
  },
  {
   "cell_type": "code",
   "execution_count": 14,
   "id": "97d31552",
   "metadata": {
    "tags": []
   },
   "outputs": [],
   "source": [
    "# Load library\n",
    "from langchain.document_loaders import PyPDFLoader\n",
    "from langchain.text_splitter import RecursiveCharacterTextSplitter\n",
    "from langchain.embeddings import HuggingFaceEmbeddings\n",
    "from langchain.vectorstores import Chroma"
   ]
  },
  {
   "cell_type": "markdown",
   "id": "26716553",
   "metadata": {},
   "source": [
    "### 文件處理"
   ]
  },
  {
   "cell_type": "code",
   "execution_count": 15,
   "id": "5a9e0da4",
   "metadata": {},
   "outputs": [
    {
     "name": "stderr",
     "output_type": "stream",
     "text": [
      "huggingface/tokenizers: The current process just got forked, after parallelism has already been used. Disabling parallelism to avoid deadlocks...\n",
      "To disable this warning, you can either:\n",
      "\t- Avoid using `tokenizers` before the fork if possible\n",
      "\t- Explicitly set the environment variable TOKENIZERS_PARALLELISM=(true | false)\n",
      "huggingface/tokenizers: The current process just got forked, after parallelism has already been used. Disabling parallelism to avoid deadlocks...\n",
      "To disable this warning, you can either:\n",
      "\t- Avoid using `tokenizers` before the fork if possible\n",
      "\t- Explicitly set the environment variable TOKENIZERS_PARALLELISM=(true | false)\n"
     ]
    },
    {
     "name": "stdout",
     "output_type": "stream",
     "text": [
      "Downloading...\n",
      "From: https://drive.google.com/uc?id=1AldhEWVCtcE50XARgSnXR0azZ965nNmT\n",
      "To: /work/c00cjz00/github/LLAMA-on-HPC/class_20240704/class/data/pdf/e2729e76-29a0-4be5-9eef-67809b05d6b9.pdf\n",
      "100%|████████████████████████████████████████| 305k/305k [00:00<00:00, 24.2MB/s]\n"
     ]
    }
   ],
   "source": [
    "!mkdir -p data/pdf/\n",
    "!gdown 1AldhEWVCtcE50XARgSnXR0azZ965nNmT -O data/pdf/"
   ]
  },
  {
   "cell_type": "code",
   "execution_count": 18,
   "id": "de8944c1",
   "metadata": {
    "tags": []
   },
   "outputs": [
    {
     "name": "stdout",
     "output_type": "stream",
     "text": [
      "8\n",
      "[Document(page_content='3 \\n 定義資訊安全管理系統 (ISMS)的需求標準，包含建立、實施\\n、檢查、改進等層面 。透過嚴謹、具有高度公信力的稽核單\\n位，確保組織採用系統化的作業流程來管理組織內部及客戶\\n個人資料的安全。  \\n2. ISO 27001 對本公司的意義  \\n藉由導入 ISO 27001 資安管理機制，證明 本公司經營團隊具\\n有完善的資訊安全管理體系， 其涵蓋範圍包括 資訊安全政策\\n、資訊安全組織、人力資源安全、資產管理、存取控制、密\\n碼學、實體及環境安全、運作安全、通訊安全、系統獲取開\\n發與維護 、供應者關係、資訊安全事故管理、營運持續管理\\n、遵循性 等作業； 透過健全的資安管理體系，除能有效 對用\\n戶資訊安全提供保障，也進階提升團隊競爭力，達到永續經\\n營的目標。  \\n三、 人力資源安全 [A7] \\n本公司對甄選及晉用之人員均會檢核與確認其所 學、經歷及專業資格 ，\\n負責重要業務活動前，會針對該項活動所需之技能 、人員的資格、 適任\\n與否予以評估。  \\n新進人員到職後，由財管 部及相關部門 實施新進人員訓練，使其了解本\\n公司組織、管理規章及安全事項。  \\n另有專責部門辦理定期或不定期之資訊安全教育訓練及宣導，促使所有\\n人員瞭解資訊安全之重要性及各種可能的安全風險，並說明違反資訊安\\n全規定時可能招致的處罰及法律責任，以提高本公司人員資訊安全意識\\n，促其遵守資訊安全規定 ；如人員因 工作職責須使用機敏性資訊 或/及\\n設施，需經過授權核准使用 。 \\n所有人員須依相關法令及本公司規範負保密責任，並簽訂保密切結書。  \\n四、 資產管理 [A8] \\n本公司採取嚴謹的風險評鑑方法論進行預測，與風險處理，以確保資料\\n資產安全。  \\n每年均進行資產盤點 活動，將資產類別、資產名稱、型號、說明、放置\\n地點、數量、資產擁有者、 風險管理者、 資產管理者及資產使用者等項\\n目納入並執行風險評鑑與風險處理。  \\n五、 存取控制 [A9] \\n本公司採取嚴謹的控制措施避免未經授權的存取，以 保護客戶和自身的\\n資料資產安全 。 \\n權限控管與識別特 殊權限是存取控制的基本原則， 本公司每位員工 皆擁\\n有唯一的帳號和 密碼，並依據其角色職責賦予最小化之權限。  \\n如需特殊權限存取相關的資源， 員工則須依據本公司的安全規定進行申\\n請和核准。  \\n六、 密碼學 [A10]', metadata={'source': './data/pdf/e2729e76-29a0-4be5-9eef-67809b05d6b9.pdf', 'page': 2})]\n"
     ]
    }
   ],
   "source": [
    "# 文件入庫\n",
    "pdf_file='./data/pdf/e2729e76-29a0-4be5-9eef-67809b05d6b9.pdf'\n",
    "loader= PyPDFLoader(pdf_file)\n",
    "documents = loader.load()\n",
    "text_splitter = RecursiveCharacterTextSplitter(chunk_size=1000, chunk_overlap=50)\n",
    "texts = text_splitter.split_documents(documents)\n",
    "\n",
    "print(len(texts))\n",
    "print(texts[3:4])"
   ]
  },
  {
   "cell_type": "markdown",
   "id": "d4c3b373",
   "metadata": {
    "tags": []
   },
   "source": [
    "### 片段文字向量化與暫時存入資料庫"
   ]
  },
  {
   "cell_type": "code",
   "execution_count": 19,
   "id": "c01b5eb2",
   "metadata": {
    "tags": []
   },
   "outputs": [],
   "source": [
    "Embeddings_ID=\"sentence-transformers/all-MiniLM-L6-v2\"\n",
    "embeddings=HuggingFaceEmbeddings(model_name=Embeddings_ID)\n",
    "vectortdb = Chroma.from_documents(texts, embeddings)\n",
    "#DB_PATH = 'vectorstore/db_chroma'\n",
    "#vectortdb = Chroma.from_documents(documents=texts, embedding=embeddings, persist_directory=DB_PATH)"
   ]
  },
  {
   "cell_type": "markdown",
   "id": "24d8e001",
   "metadata": {},
   "source": [
    "### 輸入文字像量化與暫存資料庫搜尋"
   ]
  },
  {
   "cell_type": "code",
   "execution_count": 20,
   "id": "1d9d9b1d",
   "metadata": {
    "tags": []
   },
   "outputs": [
    {
     "name": "stdout",
     "output_type": "stream",
     "text": [
      "Source: e2729e76-29a0-4be5-9eef-67809b05d6b9.pdf, Page 1\n",
      "1 \n",
      "  \n",
      " \n",
      " \n",
      " \n",
      " \n",
      " \n",
      " \n",
      " \n",
      " \n",
      " \n",
      " \n",
      " \n",
      " \n",
      " \n",
      " \n",
      " \n",
      " \n",
      " \n",
      " \n",
      " \n",
      " \n",
      "德欣寰宇  \n",
      " \n",
      "資訊安全白皮書\n",
      "\n",
      "\n",
      "\n",
      "Source: e2729e76-29a0-4be5-9eef-67809b05d6b9.pdf, Page 1\n",
      "1 \n",
      "  \n",
      " \n",
      " \n",
      " \n",
      " \n",
      " \n",
      " \n",
      " \n",
      " \n",
      " \n",
      " \n",
      " \n",
      " \n",
      " \n",
      " \n",
      " \n",
      " \n",
      " \n",
      " \n",
      " \n",
      " \n",
      "德欣寰宇  \n",
      " \n",
      "資訊安全白皮書\n",
      "\n",
      "\n",
      "\n",
      "Source: e2729e76-29a0-4be5-9eef-67809b05d6b9.pdf, Page 2\n",
      "督，透過稽核以滿足 法令法規及內部程序之 遵循性要求。 \n",
      "(三)、 獨立的第三方驗證機構驗證 ： \n",
      "本公司已取得第三方驗證機構 之ISO 27001、ISO 20000、ISO \n",
      "29100、BS 10012 等國際驗證，我們的 管理系統涵蓋 資訊機房\n",
      "管理、SOC監控中心、各部門的資訊安全、技術服務管理與個\n",
      "資安全。 \n",
      "1. 什麼是 ISO 27001 ?  \n",
      "ISO 27001 是針對資訊安全管理系統的國際驗證規範，明確\n",
      "\n",
      "\n",
      "\n"
     ]
    }
   ],
   "source": [
    "# Load DB\n",
    "#Embeddings_ID=\"sentence-transformers/all-MiniLM-L6-v2\"\n",
    "#embeddings=HuggingFaceEmbeddings(model_name=Embeddings_ID)\n",
    "#DB_PATH = 'vectorstore/db_chroma'\n",
    "#vectortdb = Chroma(persist_directory=DB_PATH, embedding_function=embeddings)\n",
    "\n",
    "#: Test Search in Vector DB\n",
    "query = \"請說明本季季報內容？請依以下順序描述重點：收入、毛利率、營運支出、營運利潤率、淨利潤和每股盈餘\"\n",
    "source_documents=vectortdb.similarity_search(query, k=3)\n",
    "\n",
    "for i, doc in enumerate(source_documents):\n",
    "    page_content=source_documents[i].page_content\n",
    "    page=source_documents[i].metadata[\"page\"]\n",
    "    source=source_documents[i].metadata[\"source\"]\n",
    "    file = os.path.basename(source) \n",
    "    print(\"Source: \"+file+\", Page \"+str(page+1) )\n",
    "    print(page_content)\n",
    "    print(\"\\n\\n\")"
   ]
  },
  {
   "cell_type": "code",
   "execution_count": null,
   "id": "9a26854c",
   "metadata": {},
   "outputs": [],
   "source": []
  }
 ],
 "metadata": {
  "colab": {
   "provenance": []
  },
  "jupyterlab": {
   "notebooks": {
    "version_major": 6,
    "version_minor": 4
   }
  },
  "kernelspec": {
   "display_name": "Python 3 (ipykernel)",
   "language": "python",
   "name": "python3"
  },
  "language_info": {
   "codemirror_mode": {
    "name": "ipython",
    "version": 3
   },
   "file_extension": ".py",
   "mimetype": "text/x-python",
   "name": "python",
   "nbconvert_exporter": "python",
   "pygments_lexer": "ipython3",
   "version": "3.10.12"
  },
  "singlestore_cell_default_language": "python",
  "singlestore_connection": {
   "connectionID": "8bd78932-964d-4d20-91bc-72bfc2f211f6",
   "defaultDatabase": ""
  }
 },
 "nbformat": 4,
 "nbformat_minor": 5
}
