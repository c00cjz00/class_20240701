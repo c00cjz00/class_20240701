{
 "cells": [
  {
   "cell_type": "markdown",
   "id": "4b20ab9a",
   "metadata": {},
   "source": [
    "## Langchain Documents and Vector DB - sentence-transformers, ChromaDB"
   ]
  },
  {
   "cell_type": "markdown",
   "id": "8507c32b",
   "metadata": {
    "tags": []
   },
   "source": [
    "1. VECTOR DB\n",
    "- https://huggingface.co/sentence-transformers\n",
    "- https://huggingface.co/sentence-transformers/all-MiniLM-L6-v2\n",
    "\n",
    "2. LANGCHAIN 手冊\n",
    "https://python.langchain.com/docs/integrations/vectorstores\n",
    "\n",
    "3. 學習LANGCHAIN -> Documents and Vector DB "
   ]
  },
  {
   "cell_type": "markdown",
   "id": "aa13fee0",
   "metadata": {},
   "source": [
    "## 初始環境設定"
   ]
  },
  {
   "cell_type": "code",
   "execution_count": null,
   "id": "9c0a669d",
   "metadata": {},
   "outputs": [],
   "source": [
    "import os\n",
    "from pathlib import Path\n",
    "HOME = str(Path.home())\n",
    "Add_Binarry_Path=HOME+'/.local/bin'\n",
    "os.environ['PATH']=os.environ['PATH']+':'+Add_Binarry_Path\n",
    "current_foldr=!pwd\n",
    "current_foldr=current_foldr[0]\n",
    "current_foldr"
   ]
  },
  {
   "cell_type": "markdown",
   "id": "423ff716",
   "metadata": {},
   "source": [
    "## 安裝套件"
   ]
  },
  {
   "cell_type": "code",
   "execution_count": null,
   "id": "3e34041e",
   "metadata": {
    "tags": []
   },
   "outputs": [],
   "source": [
    "## For colab\n",
    "!pip install chromadb gdown langchain openai pypdf python-dotenv sentence-transformers -q"
   ]
  },
  {
   "cell_type": "markdown",
   "id": "5d746deb",
   "metadata": {},
   "source": [
    "### LOAD LIBRARY### 2. LOAD LIBRARY"
   ]
  },
  {
   "cell_type": "code",
   "execution_count": null,
   "id": "7433ded1",
   "metadata": {
    "tags": []
   },
   "outputs": [],
   "source": [
    "# Load library\n",
    "from langchain.document_loaders import PyPDFLoader\n",
    "from langchain.text_splitter import RecursiveCharacterTextSplitter\n",
    "from langchain.embeddings import HuggingFaceEmbeddings\n",
    "from langchain.vectorstores import Chroma"
   ]
  },
  {
   "cell_type": "markdown",
   "id": "bacd113a",
   "metadata": {},
   "source": [
    "### 文件處理"
   ]
  },
  {
   "cell_type": "code",
   "execution_count": null,
   "id": "6d97c2e8",
   "metadata": {},
   "outputs": [],
   "source": [
    "!mkdir -p data/pdf/\n",
    "!gdown 1AldhEWVCtcE50XARgSnXR0azZ965nNmT -O data/pdf/"
   ]
  },
  {
   "cell_type": "code",
   "execution_count": null,
   "id": "fa40147c",
   "metadata": {
    "tags": []
   },
   "outputs": [],
   "source": [
    "# 文件入庫\n",
    "pdf_file='./data/pdf/e2729e76-29a0-4be5-9eef-67809b05d6b9.pdf'\n",
    "loader= PyPDFLoader(pdf_file)\n",
    "documents = loader.load()\n",
    "text_splitter = RecursiveCharacterTextSplitter(chunk_size=1000, chunk_overlap=50)\n",
    "texts = text_splitter.split_documents(documents)\n",
    "\n",
    "print(len(texts))\n",
    "print(texts[3:4])"
   ]
  },
  {
   "cell_type": "markdown",
   "id": "388a3eaf",
   "metadata": {
    "tags": []
   },
   "source": [
    "### 片段文字向量化與暫時存入資料庫"
   ]
  },
  {
   "cell_type": "code",
   "execution_count": null,
   "id": "25da0df5",
   "metadata": {
    "tags": []
   },
   "outputs": [],
   "source": [
    "Embeddings_ID=\"sentence-transformers/all-MiniLM-L6-v2\"\n",
    "embeddings=HuggingFaceEmbeddings(model_name=Embeddings_ID)\n",
    "vectortdb = Chroma.from_documents(texts, embeddings)\n",
    "#DB_PATH = 'vectorstore/db_chroma'\n",
    "#vectortdb = Chroma.from_documents(documents=texts, embedding=embeddings, persist_directory=DB_PATH)"
   ]
  },
  {
   "cell_type": "markdown",
   "id": "2f7e1fc6",
   "metadata": {},
   "source": [
    "### 輸入文字像量化與暫存資料庫搜尋"
   ]
  },
  {
   "cell_type": "code",
   "execution_count": null,
   "id": "4e87face",
   "metadata": {
    "tags": []
   },
   "outputs": [],
   "source": [
    "# Load DB\n",
    "#Embeddings_ID=\"sentence-transformers/all-MiniLM-L6-v2\"\n",
    "#embeddings=HuggingFaceEmbeddings(model_name=Embeddings_ID)\n",
    "#DB_PATH = 'vectorstore/db_chroma'\n",
    "#vectortdb = Chroma(persist_directory=DB_PATH, embedding_function=embeddings)\n",
    "\n",
    "#: Test Search in Vector DB\n",
    "query = \"請說明本季季報內容？請依以下順序描述重點：收入、毛利率、營運支出、營運利潤率、淨利潤和每股盈餘\"\n",
    "source_documents=vectortdb.similarity_search(query, k=3)\n",
    "\n",
    "for i, doc in enumerate(source_documents):\n",
    "    page_content=source_documents[i].page_content\n",
    "    page=source_documents[i].metadata[\"page\"]\n",
    "    source=source_documents[i].metadata[\"source\"]\n",
    "    file = os.path.basename(source) \n",
    "    print(\"Source: \"+file+\", Page \"+str(page+1) )\n",
    "    print(page_content)\n",
    "    print(\"\\n\\n\")"
   ]
  },
  {
   "cell_type": "code",
   "execution_count": null,
   "id": "c8dc471c",
   "metadata": {},
   "outputs": [],
   "source": []
  }
 ],
 "metadata": {
  "colab": {
   "provenance": []
  },
  "jupyterlab": {
   "notebooks": {
    "version_major": 6,
    "version_minor": 4
   }
  },
  "kernelspec": {
   "display_name": "Python 3 (ipykernel)",
   "language": "python",
   "name": "python3"
  },
  "language_info": {
   "codemirror_mode": {
    "name": "ipython",
    "version": 3
   },
   "file_extension": ".py",
   "mimetype": "text/x-python",
   "name": "python",
   "nbconvert_exporter": "python",
   "pygments_lexer": "ipython3",
   "version": "3.10.12"
  },
  "singlestore_cell_default_language": "python",
  "singlestore_connection": {
   "connectionID": "8bd78932-964d-4d20-91bc-72bfc2f211f6",
   "defaultDatabase": ""
  }
 },
 "nbformat": 4,
 "nbformat_minor": 5
}
